{
 "cells": [
  {
   "cell_type": "markdown",
   "id": "ab403a93-6458-4cc7-9f80-f9c4c9167dcc",
   "metadata": {},
   "source": [
    "# FFF Workshop\n",
    "\n",
    "## A5: Algorithmic fragment merging\n",
    "\n",
    "### Outline\n",
    "\n",
    "- Identifying merging opportunities\n",
    "- Small scale Fragmenstein merge via API\n",
    "- Small scale Knitwork\n",
    "- Point to larger scale stuff in day 2\n",
    "- Squonk jobs"
   ]
  },
  {
   "cell_type": "markdown",
   "id": "b7fe3a35-96dd-49bf-862c-312768ef7ff4",
   "metadata": {},
   "source": [
    "## Identifying merging opportunities\n",
    "\n",
    "For fragment progression it is often desirable to restrict the observations considered for merging. When working with Fragalysis data, tags and Canonical Sites assigned by XCA can be useful starting points"
   ]
  },
  {
   "cell_type": "code",
   "execution_count": 1,
   "id": "a21f01ad-2c85-4800-84c1-12c60a9df8f7",
   "metadata": {},
   "outputs": [
    {
     "data": {
      "text/html": [
       "<pre style=\"white-space:pre;overflow-x:auto;line-height:normal;font-family:Menlo,'DejaVu Sans Mono',consolas,'Courier New',monospace;margin:0px\"><span style=\"font-weight: bold\"> Creating HIPPO animal</span>\n",
       "</pre>\n"
      ],
      "text/plain": [
       "\u001b[1m Creating HIPPO animal\u001b[0m\n"
      ]
     },
     "metadata": {},
     "output_type": "display_data"
    },
    {
     "data": {
      "text/html": [
       "<pre style=\"white-space:pre;overflow-x:auto;line-height:normal;font-family:Menlo,'DejaVu Sans Mono',consolas,'Courier New',monospace;margin:0px\"><span style=\"color: #008080; text-decoration-color: #008080; font-weight: bold\">name</span> = <span style=\"color: #00d7af; text-decoration-color: #00d7af\">A71EV2A_demo</span>\n",
       "</pre>\n"
      ],
      "text/plain": [
       "\u001b[1;36mname\u001b[0m = \u001b[38;5;43mA71EV2A_demo\u001b[0m\n"
      ]
     },
     "metadata": {},
     "output_type": "display_data"
    },
    {
     "data": {
      "text/html": [
       "<pre style=\"white-space:pre;overflow-x:auto;line-height:normal;font-family:Menlo,'DejaVu Sans Mono',consolas,'Courier New',monospace;margin:0px\"><span style=\"color: #008080; text-decoration-color: #008080; font-weight: bold\">db_path</span> = <span style=\"color: #d7af00; text-decoration-color: #d7af00\">../data/A71EV2A.sqlite</span>\n",
       "</pre>\n"
      ],
      "text/plain": [
       "\u001b[1;36mdb_path\u001b[0m = \u001b[38;5;178m../data/A71EV2A.sqlite\u001b[0m\n"
      ]
     },
     "metadata": {},
     "output_type": "display_data"
    },
    {
     "data": {
      "text/html": [
       "<pre style=\"white-space:pre;overflow-x:auto;line-height:normal;font-family:Menlo,'DejaVu Sans Mono',consolas,'Courier New',monospace;margin:0px\"><span style=\"color: #808080; text-decoration-color: #808080\">DEBUG: hippo.Database.__init__()</span>\n",
       "</pre>\n"
      ],
      "text/plain": [
       "\u001b[90mDEBUG: hippo.Database.__init__()\u001b[0m\n"
      ]
     },
     "metadata": {},
     "output_type": "display_data"
    },
    {
     "data": {
      "text/html": [
       "<pre style=\"white-space:pre;overflow-x:auto;line-height:normal;font-family:Menlo,'DejaVu Sans Mono',consolas,'Courier New',monospace;margin:0px\"><span style=\"color: #808080; text-decoration-color: #808080\">DEBUG: Database.path = ../data/A71EV2A.sqlite</span>\n",
       "</pre>\n"
      ],
      "text/plain": [
       "\u001b[90mDEBUG: Database.path = ../data/A71EV2A.sqlite\u001b[0m\n"
      ]
     },
     "metadata": {},
     "output_type": "display_data"
    },
    {
     "data": {
      "text/html": [
       "<pre style=\"white-space:pre;overflow-x:auto;line-height:normal;font-family:Menlo,'DejaVu Sans Mono',consolas,'Courier New',monospace;margin:0px\"><span style=\"color: #808080; text-decoration-color: #808080\">DEBUG: hippo.Database.connect()</span>\n",
       "</pre>\n"
      ],
      "text/plain": [
       "\u001b[90mDEBUG: hippo.Database.connect()\u001b[0m\n"
      ]
     },
     "metadata": {},
     "output_type": "display_data"
    },
    {
     "data": {
      "text/html": [
       "<pre style=\"white-space:pre;overflow-x:auto;line-height:normal;font-family:Menlo,'DejaVu Sans Mono',consolas,'Courier New',monospace;margin:0px\"><span style=\"color: #808080; text-decoration-color: #808080\">DEBUG: sqlite3.version='2.6.0'</span>\n",
       "</pre>\n"
      ],
      "text/plain": [
       "\u001b[90mDEBUG: sqlite3.version='2.6.0'\u001b[0m\n"
      ]
     },
     "metadata": {},
     "output_type": "display_data"
    },
    {
     "data": {
      "text/html": [
       "<pre style=\"white-space:pre;overflow-x:auto;line-height:normal;font-family:Menlo,'DejaVu Sans Mono',consolas,'Courier New',monospace;margin:0px\"><span style=\"background-color: #008000; font-weight: bold\"> Success </span><span style=\"color: #008000; text-decoration-color: #008000; font-weight: bold\"> Database connected @</span><span style=\"color: #d7af00; text-decoration-color: #d7af00; font-weight: bold\"> ../data/A71EV2A.sqlite!</span>\n",
       "</pre>\n"
      ],
      "text/plain": [
       "\u001b[1;7;32m Success \u001b[0m\u001b[1;32m Database connected @\u001b[0m\u001b[1;38;5;178m ../data/A71EV2A.sqlite!\u001b[0m\n"
      ]
     },
     "metadata": {},
     "output_type": "display_data"
    },
    {
     "data": {
      "text/html": [
       "<pre style=\"white-space:pre;overflow-x:auto;line-height:normal;font-family:Menlo,'DejaVu Sans Mono',consolas,'Courier New',monospace;margin:0px\"><span style=\"background-color: #008000; font-weight: bold\"> Success </span><span style=\"color: #008000; text-decoration-color: #008000; font-weight: bold\"> Initialised animal</span><span style=\"color: #008080; text-decoration-color: #008080; font-weight: bold\"> HIPPO(\"A71EV2A_demo\")!</span>\n",
       "</pre>\n"
      ],
      "text/plain": [
       "\u001b[1;7;32m Success \u001b[0m\u001b[1;32m Initialised animal\u001b[0m\u001b[1;36m HIPPO(\"A71EV2A_demo\")!\u001b[0m\n"
      ]
     },
     "metadata": {},
     "output_type": "display_data"
    }
   ],
   "source": [
    "# setup the animal\n",
    "%load_ext autoreload\n",
    "%autoreload 2\n",
    "import hippo\n",
    "animal = hippo.HIPPO(\n",
    "    \"A71EV2A_demo\",\n",
    "    \"../data/A71EV2A.sqlite\",\n",
    ")"
   ]
  },
  {
   "cell_type": "markdown",
   "id": "20911ee4-ed32-4935-b725-43ba946ab5ef",
   "metadata": {},
   "source": [
    "For the example target A71EV2A it makes most sense to explore merges of fragments in the active site:"
   ]
  },
  {
   "cell_type": "code",
   "execution_count": 6,
   "id": "26be3d6a-916a-466f-87fc-96320759b6d2",
   "metadata": {},
   "outputs": [
    {
     "data": {
      "text/plain": [
       "\u001b[1m\u001b[4mposes tagged \"[Other] Active site fragment\": {P × 44}\u001b[22m\u001b[24m"
      ]
     },
     "execution_count": 6,
     "metadata": {},
     "output_type": "execute_result"
    }
   ],
   "source": [
    "active_site_fragments = animal.poses(tag=\"[Other] Active site fragment\")\n",
    "active_site_fragments"
   ]
  },
  {
   "cell_type": "code",
   "execution_count": 5,
   "id": "c86dfb62-8abd-4ea6-b54c-c22a0ae03a3c",
   "metadata": {},
   "outputs": [
    {
     "data": {
      "text/plain": [
       "\u001b[1m\u001b[4mposes tagged \"hits\" & subsite=1: {P × 611}\u001b[22m\u001b[24m"
      ]
     },
     "execution_count": 5,
     "metadata": {},
     "output_type": "execute_result"
    }
   ],
   "source": [
    "active_site_hits = animal.poses(tag=\"hits\").get_by_subsite(id=1)\n",
    "active_site_hits"
   ]
  },
  {
   "cell_type": "markdown",
   "id": "d88f4d0d-fb0d-44c4-8a99-092081f82335",
   "metadata": {},
   "source": [
    "You may also want to explore merges of other/larger ligands in the active site:"
   ]
  },
  {
   "cell_type": "markdown",
   "id": "da40f5b4-b114-49a5-8ee9-9b633c64bb08",
   "metadata": {},
   "source": [
    "One way to anticipate pairs of molecules that are suitable for merging is to look at their interactions. An ideal merge will combine molecules that share some but not all interactions with each other. Consider the following pair:"
   ]
  },
  {
   "cell_type": "code",
   "execution_count": 9,
   "id": "b6e25b73-8509-4788-94c4-be7dca2b0de8",
   "metadata": {},
   "outputs": [
    {
     "data": {
      "application/3dmoljs_load.v0": "<div id=\"3dmolviewer_17615626448775458\"  style=\"position: relative; width: 400px; height: 400px;\">\n        <p id=\"3dmolwarning_17615626448775458\" style=\"background-color:#ffcccc;color:black\">3Dmol.js failed to load for some reason.  Please check your browser console for error messages.<br></p>\n        </div>\n<script>\n\nvar loadScriptAsync = function(uri){\n  return new Promise((resolve, reject) => {\n    //this is to ignore the existence of requirejs amd\n    var savedexports, savedmodule;\n    if (typeof exports !== 'undefined') savedexports = exports;\n    else exports = {}\n    if (typeof module !== 'undefined') savedmodule = module;\n    else module = {}\n\n    var tag = document.createElement('script');\n    tag.src = uri;\n    tag.async = true;\n    tag.onload = () => {\n        exports = savedexports;\n        module = savedmodule;\n        resolve();\n    };\n  var firstScriptTag = document.getElementsByTagName('script')[0];\n  firstScriptTag.parentNode.insertBefore(tag, firstScriptTag);\n});\n};\n\nif(typeof $3Dmolpromise === 'undefined') {\n$3Dmolpromise = null;\n  $3Dmolpromise = loadScriptAsync('https://cdn.jsdelivr.net/npm/3dmol@2.5.3/build/3Dmol-min.js');\n}\n\nvar viewer_17615626448775458 = null;\nvar warn = document.getElementById(\"3dmolwarning_17615626448775458\");\nif(warn) {\n    warn.parentNode.removeChild(warn);\n}\n$3Dmolpromise.then(function() {\nviewer_17615626448775458 = $3Dmol.createViewer(document.getElementById(\"3dmolviewer_17615626448775458\"),{backgroundColor:\"white\"});\nviewer_17615626448775458.zoomTo();\n\tviewer_17615626448775458.removeAllModels();\n\tviewer_17615626448775458.addModel(\"\\n     RDKit          3D\\n\\n 15 16  0  0  0  0  0  0  0  0999 V2000\\n    9.0300   11.1340   23.7770 N   0  0  0  0  0  0  0  0  0  0  0  0\\n    9.2040    8.8400   22.9830 C   0  0  0  0  0  0  0  0  0  0  0  0\\n    8.2250   11.8720   24.6890 O   0  0  0  0  0  0  0  0  0  0  0  0\\n    8.5710    9.8970   23.8310 C   0  0  0  0  0  0  0  0  0  0  0  0\\n    7.4900    9.7780   24.7220 C   0  0  0  0  0  0  0  0  0  0  0  0\\n    7.3140   11.0240   25.2230 C   0  0  0  0  0  0  0  0  0  0  0  0\\n    6.3180   11.5560   26.1560 C   0  0  0  0  0  0  0  0  0  0  0  0\\n    5.9710   13.4980   27.6000 C   0  0  0  0  0  0  0  0  0  0  0  0\\n    4.5710   14.0900   27.6020 C   0  0  1  0  0  0  0  0  0  0  0  0\\n    4.5320   15.5480   28.0800 C   0  0  0  0  0  0  0  0  0  0  0  0\\n    3.3850   16.1620   27.2890 C   0  0  0  0  0  0  0  0  0  0  0  0\\n    3.9540   14.2190   26.2190 C   0  0  0  0  0  0  0  0  0  0  0  0\\n    6.3210   12.8800   26.3250 N   0  0  0  0  0  0  0  0  0  0  0  0\\n    5.5450   10.7980   26.7400 O   0  0  0  0  0  0  0  0  0  0  0  0\\n    2.9030   15.1700   26.3780 O   0  0  0  0  0  0  0  0  0  0  0  0\\n  3  1  1  0\\n  4  2  1  0\\n  4  1  2  0\\n  5  4  1  0\\n  6  5  2  0\\n  6  3  1  0\\n  7  6  1  0\\n  9  8  1  6\\n 10  9  1  0\\n 11 10  1  0\\n 12  9  1  0\\n 13  7  1  0\\n 13  8  1  0\\n 14  7  2  0\\n 15 12  1  0\\n 15 11  1  0\\nM  END\\n\",\"sdf\");\n\tviewer_17615626448775458.setStyle({\"stick\": {}});\n\tviewer_17615626448775458.addModel(\"\\n     RDKit          3D\\n\\n 15 16  0  0  0  0  0  0  0  0999 V2000\\n    5.3130   11.8700   27.5640 N   0  0  0  0  0  0  0  0  0  0  0  0\\n    9.4770    9.1180   23.3050 C   0  0  0  0  0  0  0  0  0  0  0  0\\n    6.7120   12.7210   29.0980 O   0  0  0  0  0  0  0  0  0  0  0  0\\n    8.5970    9.9750   24.1630 C   0  0  0  0  0  0  0  0  0  0  0  0\\n    6.9920   10.2450   30.5280 C   0  0  0  0  0  0  0  0  0  0  0  0\\n    6.6870   10.1770   25.4450 C   0  0  0  0  0  0  0  0  0  0  0  0\\n    8.9000   11.3140   24.3960 C   0  0  0  0  0  0  0  0  0  0  0  0\\n    8.0380   12.0810   25.1500 C   0  0  0  0  0  0  0  0  0  0  0  0\\n    6.8900   11.5260   25.6770 C   0  0  0  0  0  0  0  0  0  0  0  0\\n    5.8310   12.3940   26.3140 C   0  0  0  0  0  0  0  0  0  0  0  0\\n    6.0670   11.7720   28.6550 C   0  0  0  0  0  0  0  0  0  0  0  0\\n    6.1020   10.4100   29.2970 C   0  0  2  0  0  0  0  0  0  0  0  0\\n    4.8660    9.9730   30.0970 C   0  0  0  0  0  0  0  0  0  0  0  0\\n    5.7240   10.0130   31.3880 C   0  0  0  0  0  0  0  0  0  0  0  0\\n    7.4970    9.4100   24.6940 N   0  0  0  0  0  0  0  0  0  0  0  0\\n  4  2  1  0\\n  7  4  2  0\\n  8  7  1  0\\n  9  6  1  0\\n  9  8  2  0\\n 10  1  1  0\\n 10  9  1  0\\n 11  1  1  0\\n 11  3  2  0\\n 12  5  1  0\\n 12 11  1  1\\n 13 12  1  0\\n 14 13  1  0\\n 14  5  1  0\\n 15  6  2  0\\n 15  4  1  0\\nM  END\\n\",\"sdf\");\n\tviewer_17615626448775458.setStyle({\"stick\": {}});\n\tviewer_17615626448775458.setStyle({\"model\": 0},{\"stick\": {\"colorscheme\": \"cyanCarbon\"}});\n\tviewer_17615626448775458.setStyle({\"model\": 1},{\"stick\": {\"colorscheme\": \"redCarbon\"}});\n\tviewer_17615626448775458.zoomTo();\nviewer_17615626448775458.render();\n});\n</script>",
      "text/html": [
       "<div id=\"3dmolviewer_17615626448775458\"  style=\"position: relative; width: 400px; height: 400px;\">\n",
       "        <p id=\"3dmolwarning_17615626448775458\" style=\"background-color:#ffcccc;color:black\">3Dmol.js failed to load for some reason.  Please check your browser console for error messages.<br></p>\n",
       "        </div>\n",
       "<script>\n",
       "\n",
       "var loadScriptAsync = function(uri){\n",
       "  return new Promise((resolve, reject) => {\n",
       "    //this is to ignore the existence of requirejs amd\n",
       "    var savedexports, savedmodule;\n",
       "    if (typeof exports !== 'undefined') savedexports = exports;\n",
       "    else exports = {}\n",
       "    if (typeof module !== 'undefined') savedmodule = module;\n",
       "    else module = {}\n",
       "\n",
       "    var tag = document.createElement('script');\n",
       "    tag.src = uri;\n",
       "    tag.async = true;\n",
       "    tag.onload = () => {\n",
       "        exports = savedexports;\n",
       "        module = savedmodule;\n",
       "        resolve();\n",
       "    };\n",
       "  var firstScriptTag = document.getElementsByTagName('script')[0];\n",
       "  firstScriptTag.parentNode.insertBefore(tag, firstScriptTag);\n",
       "});\n",
       "};\n",
       "\n",
       "if(typeof $3Dmolpromise === 'undefined') {\n",
       "$3Dmolpromise = null;\n",
       "  $3Dmolpromise = loadScriptAsync('https://cdn.jsdelivr.net/npm/3dmol@2.5.3/build/3Dmol-min.js');\n",
       "}\n",
       "\n",
       "var viewer_17615626448775458 = null;\n",
       "var warn = document.getElementById(\"3dmolwarning_17615626448775458\");\n",
       "if(warn) {\n",
       "    warn.parentNode.removeChild(warn);\n",
       "}\n",
       "$3Dmolpromise.then(function() {\n",
       "viewer_17615626448775458 = $3Dmol.createViewer(document.getElementById(\"3dmolviewer_17615626448775458\"),{backgroundColor:\"white\"});\n",
       "viewer_17615626448775458.zoomTo();\n",
       "\tviewer_17615626448775458.removeAllModels();\n",
       "\tviewer_17615626448775458.addModel(\"\\n     RDKit          3D\\n\\n 15 16  0  0  0  0  0  0  0  0999 V2000\\n    9.0300   11.1340   23.7770 N   0  0  0  0  0  0  0  0  0  0  0  0\\n    9.2040    8.8400   22.9830 C   0  0  0  0  0  0  0  0  0  0  0  0\\n    8.2250   11.8720   24.6890 O   0  0  0  0  0  0  0  0  0  0  0  0\\n    8.5710    9.8970   23.8310 C   0  0  0  0  0  0  0  0  0  0  0  0\\n    7.4900    9.7780   24.7220 C   0  0  0  0  0  0  0  0  0  0  0  0\\n    7.3140   11.0240   25.2230 C   0  0  0  0  0  0  0  0  0  0  0  0\\n    6.3180   11.5560   26.1560 C   0  0  0  0  0  0  0  0  0  0  0  0\\n    5.9710   13.4980   27.6000 C   0  0  0  0  0  0  0  0  0  0  0  0\\n    4.5710   14.0900   27.6020 C   0  0  1  0  0  0  0  0  0  0  0  0\\n    4.5320   15.5480   28.0800 C   0  0  0  0  0  0  0  0  0  0  0  0\\n    3.3850   16.1620   27.2890 C   0  0  0  0  0  0  0  0  0  0  0  0\\n    3.9540   14.2190   26.2190 C   0  0  0  0  0  0  0  0  0  0  0  0\\n    6.3210   12.8800   26.3250 N   0  0  0  0  0  0  0  0  0  0  0  0\\n    5.5450   10.7980   26.7400 O   0  0  0  0  0  0  0  0  0  0  0  0\\n    2.9030   15.1700   26.3780 O   0  0  0  0  0  0  0  0  0  0  0  0\\n  3  1  1  0\\n  4  2  1  0\\n  4  1  2  0\\n  5  4  1  0\\n  6  5  2  0\\n  6  3  1  0\\n  7  6  1  0\\n  9  8  1  6\\n 10  9  1  0\\n 11 10  1  0\\n 12  9  1  0\\n 13  7  1  0\\n 13  8  1  0\\n 14  7  2  0\\n 15 12  1  0\\n 15 11  1  0\\nM  END\\n\",\"sdf\");\n",
       "\tviewer_17615626448775458.setStyle({\"stick\": {}});\n",
       "\tviewer_17615626448775458.addModel(\"\\n     RDKit          3D\\n\\n 15 16  0  0  0  0  0  0  0  0999 V2000\\n    5.3130   11.8700   27.5640 N   0  0  0  0  0  0  0  0  0  0  0  0\\n    9.4770    9.1180   23.3050 C   0  0  0  0  0  0  0  0  0  0  0  0\\n    6.7120   12.7210   29.0980 O   0  0  0  0  0  0  0  0  0  0  0  0\\n    8.5970    9.9750   24.1630 C   0  0  0  0  0  0  0  0  0  0  0  0\\n    6.9920   10.2450   30.5280 C   0  0  0  0  0  0  0  0  0  0  0  0\\n    6.6870   10.1770   25.4450 C   0  0  0  0  0  0  0  0  0  0  0  0\\n    8.9000   11.3140   24.3960 C   0  0  0  0  0  0  0  0  0  0  0  0\\n    8.0380   12.0810   25.1500 C   0  0  0  0  0  0  0  0  0  0  0  0\\n    6.8900   11.5260   25.6770 C   0  0  0  0  0  0  0  0  0  0  0  0\\n    5.8310   12.3940   26.3140 C   0  0  0  0  0  0  0  0  0  0  0  0\\n    6.0670   11.7720   28.6550 C   0  0  0  0  0  0  0  0  0  0  0  0\\n    6.1020   10.4100   29.2970 C   0  0  2  0  0  0  0  0  0  0  0  0\\n    4.8660    9.9730   30.0970 C   0  0  0  0  0  0  0  0  0  0  0  0\\n    5.7240   10.0130   31.3880 C   0  0  0  0  0  0  0  0  0  0  0  0\\n    7.4970    9.4100   24.6940 N   0  0  0  0  0  0  0  0  0  0  0  0\\n  4  2  1  0\\n  7  4  2  0\\n  8  7  1  0\\n  9  6  1  0\\n  9  8  2  0\\n 10  1  1  0\\n 10  9  1  0\\n 11  1  1  0\\n 11  3  2  0\\n 12  5  1  0\\n 12 11  1  1\\n 13 12  1  0\\n 14 13  1  0\\n 14  5  1  0\\n 15  6  2  0\\n 15  4  1  0\\nM  END\\n\",\"sdf\");\n",
       "\tviewer_17615626448775458.setStyle({\"stick\": {}});\n",
       "\tviewer_17615626448775458.setStyle({\"model\": 0},{\"stick\": {\"colorscheme\": \"cyanCarbon\"}});\n",
       "\tviewer_17615626448775458.setStyle({\"model\": 1},{\"stick\": {\"colorscheme\": \"redCarbon\"}});\n",
       "\tviewer_17615626448775458.zoomTo();\n",
       "viewer_17615626448775458.render();\n",
       "});\n",
       "</script>"
      ]
     },
     "metadata": {},
     "output_type": "display_data"
    }
   ],
   "source": [
    "animal.poses[\"A0207a\", \"A0237a\"].draw()"
   ]
  },
  {
   "cell_type": "markdown",
   "id": "00fbfea4-b6fd-4f88-8449-8976c79658b5",
   "metadata": {},
   "source": [
    "The overlapping ring might make it suitable for merging. Looking at the interactions:"
   ]
  },
  {
   "cell_type": "code",
   "execution_count": 10,
   "id": "f33edc37-842a-4e45-af02-e61ecc5c6c2f",
   "metadata": {},
   "outputs": [
    {
     "data": {
      "text/html": [
       "<pre style=\"white-space:pre;overflow-x:auto;line-height:normal;font-family:Menlo,'DejaVu Sans Mono',consolas,'Courier New',monospace;margin:0px\"><span style=\"font-weight: bold\"> </span><span style=\"font-weight: bold; text-decoration: underline\">{I × 3}</span>\n",
       "</pre>\n"
      ],
      "text/plain": [
       "\u001b[1m \u001b[0m\u001b[1;4m{I × 3}\u001b[0m\n"
      ]
     },
     "metadata": {},
     "output_type": "display_data"
    },
    {
     "data": {
      "text/html": [
       "<pre style=\"white-space:pre;overflow-x:auto;line-height:normal;font-family:Menlo,'DejaVu Sans Mono',consolas,'Courier New',monospace;margin:0px\"><span style=\"color: #008080; text-decoration-color: #008080; font-weight: bold\">π-stacking [B PRO 107] 3.7 Å, 9.9 degrees</span> = <span style=\"color: #008080; text-decoration-color: #008080; font-weight: bold\">3.7</span> <span style=\"color: #ff5fd7; text-decoration-color: #ff5fd7\">Å</span>\n",
       "</pre>\n"
      ],
      "text/plain": [
       "\u001b[1;36mπ-stacking [B PRO 107] 3.7 Å, 9.9 degrees\u001b[0m = \u001b[1;36m3.7\u001b[0m \u001b[38;5;206mÅ\u001b[0m\n"
      ]
     },
     "metadata": {},
     "output_type": "display_data"
    },
    {
     "data": {
      "text/html": [
       "<pre style=\"white-space:pre;overflow-x:auto;line-height:normal;font-family:Menlo,'DejaVu Sans Mono',consolas,'Courier New',monospace;margin:0px\"><span style=\"color: #008080; text-decoration-color: #008080; font-weight: bold\">Hydrophobic [B ASP 109] 4.5 Å</span> = <span style=\"color: #008080; text-decoration-color: #008080; font-weight: bold\">4.5</span> <span style=\"color: #ff5fd7; text-decoration-color: #ff5fd7\">Å</span>\n",
       "</pre>\n"
      ],
      "text/plain": [
       "\u001b[1;36mHydrophobic [B ASP 109] 4.5 Å\u001b[0m = \u001b[1;36m4.5\u001b[0m \u001b[38;5;206mÅ\u001b[0m\n"
      ]
     },
     "metadata": {},
     "output_type": "display_data"
    },
    {
     "data": {
      "text/html": [
       "<pre style=\"white-space:pre;overflow-x:auto;line-height:normal;font-family:Menlo,'DejaVu Sans Mono',consolas,'Courier New',monospace;margin:0px\"><span style=\"color: #008080; text-decoration-color: #008080; font-weight: bold\">Hydrophobic [B VAL 124] 3.5 Å</span> = <span style=\"color: #008080; text-decoration-color: #008080; font-weight: bold\">3.5</span> <span style=\"color: #ff5fd7; text-decoration-color: #ff5fd7\">Å</span>\n",
       "</pre>\n"
      ],
      "text/plain": [
       "\u001b[1;36mHydrophobic [B VAL 124] 3.5 Å\u001b[0m = \u001b[1;36m3.5\u001b[0m \u001b[38;5;206mÅ\u001b[0m\n"
      ]
     },
     "metadata": {},
     "output_type": "display_data"
    },
    {
     "data": {
      "text/html": [
       "<pre style=\"white-space:pre;overflow-x:auto;line-height:normal;font-family:Menlo,'DejaVu Sans Mono',consolas,'Courier New',monospace;margin:0px\"><span style=\"font-weight: bold\"> </span><span style=\"font-weight: bold; text-decoration: underline\">{I × 6}</span>\n",
       "</pre>\n"
      ],
      "text/plain": [
       "\u001b[1m \u001b[0m\u001b[1;4m{I × 6}\u001b[0m\n"
      ]
     },
     "metadata": {},
     "output_type": "display_data"
    },
    {
     "data": {
      "text/html": [
       "<pre style=\"white-space:pre;overflow-x:auto;line-height:normal;font-family:Menlo,'DejaVu Sans Mono',consolas,'Courier New',monospace;margin:0px\"><span style=\"color: #008080; text-decoration-color: #008080; font-weight: bold\">Hydrogen Bond [B SER 105] 2.8 Å</span> = <span style=\"color: #008080; text-decoration-color: #008080; font-weight: bold\">2.8</span> <span style=\"color: #ff5fd7; text-decoration-color: #ff5fd7\">Å</span>\n",
       "</pre>\n"
      ],
      "text/plain": [
       "\u001b[1;36mHydrogen Bond [B SER 105] 2.8 Å\u001b[0m = \u001b[1;36m2.8\u001b[0m \u001b[38;5;206mÅ\u001b[0m\n"
      ]
     },
     "metadata": {},
     "output_type": "display_data"
    },
    {
     "data": {
      "text/html": [
       "<pre style=\"white-space:pre;overflow-x:auto;line-height:normal;font-family:Menlo,'DejaVu Sans Mono',consolas,'Courier New',monospace;margin:0px\"><span style=\"color: #008080; text-decoration-color: #008080; font-weight: bold\">Hydrophobic [B GLU 106] 4.4 Å</span> = <span style=\"color: #008080; text-decoration-color: #008080; font-weight: bold\">4.4</span> <span style=\"color: #ff5fd7; text-decoration-color: #ff5fd7\">Å</span>\n",
       "</pre>\n"
      ],
      "text/plain": [
       "\u001b[1;36mHydrophobic [B GLU 106] 4.4 Å\u001b[0m = \u001b[1;36m4.4\u001b[0m \u001b[38;5;206mÅ\u001b[0m\n"
      ]
     },
     "metadata": {},
     "output_type": "display_data"
    },
    {
     "data": {
      "text/html": [
       "<pre style=\"white-space:pre;overflow-x:auto;line-height:normal;font-family:Menlo,'DejaVu Sans Mono',consolas,'Courier New',monospace;margin:0px\"><span style=\"color: #008080; text-decoration-color: #008080; font-weight: bold\">Hydrophobic [B GLU 106] 4.1 Å</span> = <span style=\"color: #008080; text-decoration-color: #008080; font-weight: bold\">4.1</span> <span style=\"color: #ff5fd7; text-decoration-color: #ff5fd7\">Å</span>\n",
       "</pre>\n"
      ],
      "text/plain": [
       "\u001b[1;36mHydrophobic [B GLU 106] 4.1 Å\u001b[0m = \u001b[1;36m4.1\u001b[0m \u001b[38;5;206mÅ\u001b[0m\n"
      ]
     },
     "metadata": {},
     "output_type": "display_data"
    },
    {
     "data": {
      "text/html": [
       "<pre style=\"white-space:pre;overflow-x:auto;line-height:normal;font-family:Menlo,'DejaVu Sans Mono',consolas,'Courier New',monospace;margin:0px\"><span style=\"color: #008080; text-decoration-color: #008080; font-weight: bold\">Hydrophobic [B PRO 107] 3.8 Å</span> = <span style=\"color: #008080; text-decoration-color: #008080; font-weight: bold\">3.8</span> <span style=\"color: #ff5fd7; text-decoration-color: #ff5fd7\">Å</span>\n",
       "</pre>\n"
      ],
      "text/plain": [
       "\u001b[1;36mHydrophobic [B PRO 107] 3.8 Å\u001b[0m = \u001b[1;36m3.8\u001b[0m \u001b[38;5;206mÅ\u001b[0m\n"
      ]
     },
     "metadata": {},
     "output_type": "display_data"
    },
    {
     "data": {
      "text/html": [
       "<pre style=\"white-space:pre;overflow-x:auto;line-height:normal;font-family:Menlo,'DejaVu Sans Mono',consolas,'Courier New',monospace;margin:0px\"><span style=\"color: #008080; text-decoration-color: #008080; font-weight: bold\">π-stacking [B PRO 107] 4.1 Å, 6.3 degrees</span> = <span style=\"color: #008080; text-decoration-color: #008080; font-weight: bold\">4.1</span> <span style=\"color: #ff5fd7; text-decoration-color: #ff5fd7\">Å</span>\n",
       "</pre>\n"
      ],
      "text/plain": [
       "\u001b[1;36mπ-stacking [B PRO 107] 4.1 Å, 6.3 degrees\u001b[0m = \u001b[1;36m4.1\u001b[0m \u001b[38;5;206mÅ\u001b[0m\n"
      ]
     },
     "metadata": {},
     "output_type": "display_data"
    },
    {
     "data": {
      "text/html": [
       "<pre style=\"white-space:pre;overflow-x:auto;line-height:normal;font-family:Menlo,'DejaVu Sans Mono',consolas,'Courier New',monospace;margin:0px\"><span style=\"color: #008080; text-decoration-color: #008080; font-weight: bold\">Hydrophobic [B VAL 124] 3.9 Å</span> = <span style=\"color: #008080; text-decoration-color: #008080; font-weight: bold\">3.9</span> <span style=\"color: #ff5fd7; text-decoration-color: #ff5fd7\">Å</span>\n",
       "</pre>\n"
      ],
      "text/plain": [
       "\u001b[1;36mHydrophobic [B VAL 124] 3.9 Å\u001b[0m = \u001b[1;36m3.9\u001b[0m \u001b[38;5;206mÅ\u001b[0m\n"
      ]
     },
     "metadata": {},
     "output_type": "display_data"
    }
   ],
   "source": [
    "animal.poses[\"A0207a\"].interactions.summary()\n",
    "animal.poses[\"A0237a\"].interactions.summary()"
   ]
  },
  {
   "cell_type": "markdown",
   "id": "a55ee9a9-bebf-4ce1-845b-ef7eec6ff7aa",
   "metadata": {},
   "source": [
    "There are 2 shared interactions, which could be exploited during merging.\n",
    "\n",
    "In HIPPO a `PoseSet` method exists to count these opportunities using interactions in the dataset:"
   ]
  },
  {
   "cell_type": "code",
   "execution_count": 31,
   "id": "36dd6076-0161-4d1e-957f-afcac993db0a",
   "metadata": {},
   "outputs": [
    {
     "data": {
      "text/plain": [
       "1"
      ]
     },
     "execution_count": 31,
     "metadata": {},
     "output_type": "execute_result"
    }
   ],
   "source": [
    "animal.poses[\"A0207a\", \"A0237a\"].get_interaction_overlaps()"
   ]
  },
  {
   "cell_type": "markdown",
   "id": "3052239f-e826-4780-a608-c8b5c281cc84",
   "metadata": {},
   "source": [
    "This tells us that `A0207a` and `A0237a` might be worth trying to merge.\n",
    "\n",
    "For a larger set you can count all the interaction overlaps as well:"
   ]
  },
  {
   "cell_type": "code",
   "execution_count": 33,
   "id": "3a3c05b9-7d31-4d3c-9cf0-b53b8a362391",
   "metadata": {},
   "outputs": [
    {
     "data": {
      "text/plain": [
       "288"
      ]
     },
     "execution_count": 33,
     "metadata": {},
     "output_type": "execute_result"
    }
   ],
   "source": [
    "active_site_fragments.get_interaction_overlaps()"
   ]
  },
  {
   "cell_type": "markdown",
   "id": "d3aac18c-d02c-42f8-9cb5-b06d46b49e8b",
   "metadata": {},
   "source": [
    "You can also get the pairs as a list of `PoseSet` objects:"
   ]
  },
  {
   "cell_type": "code",
   "execution_count": 37,
   "id": "8ecad064-9dcf-4c3f-9d82-9c2260e155b4",
   "metadata": {},
   "outputs": [
    {
     "name": "stdout",
     "output_type": "stream",
     "text": [
      "['A0739a', 'A0351a']\n"
     ]
    }
   ],
   "source": [
    "pairs = active_site_fragments.get_interaction_overlaps(return_pairs=True)\n",
    "\n",
    "for pair in pairs:\n",
    "    print(pair.names)\n",
    "    break"
   ]
  },
  {
   "cell_type": "markdown",
   "id": "3f1f2e27-e89c-402a-8f50-df2410c8f99b",
   "metadata": {},
   "source": [
    "## Fragmenstein Merging\n",
    "\n",
    "Fragmenstein can be used to generate merges of multiple molecules, and minimise their conformations relative to the reference/inspiration molecules.\n",
    "\n",
    "A Fragmenstein merging job is available in Fragalysis/Squonk and can be requested with the fragalysis Python API:"
   ]
  },
  {
   "cell_type": "code",
   "execution_count": 54,
   "id": "cc72309b-2546-4605-9c5e-b1adf3e5c15d",
   "metadata": {},
   "outputs": [
    {
     "data": {
      "text/html": [
       "<pre style=\"white-space:pre;overflow-x:auto;line-height:normal;font-family:Menlo,'DejaVu Sans Mono',consolas,'Courier New',monospace;margin:0px\"><span style=\"color: #800000; text-decoration-color: #800000\">╭─────────────────────────────── </span><span style=\"color: #800000; text-decoration-color: #800000; font-weight: bold\">Traceback </span><span style=\"color: #bf7f7f; text-decoration-color: #bf7f7f; font-weight: bold\">(most recent call last)</span><span style=\"color: #800000; text-decoration-color: #800000\"> ────────────────────────────────╮</span>\n",
       "<span style=\"color: #800000; text-decoration-color: #800000\">│</span> in &lt;module&gt;:1                                                                                    <span style=\"color: #800000; text-decoration-color: #800000\">│</span>\n",
       "<span style=\"color: #800000; text-decoration-color: #800000\">│</span>                                                                                                  <span style=\"color: #800000; text-decoration-color: #800000\">│</span>\n",
       "<span style=\"color: #800000; text-decoration-color: #800000\">│</span> <span style=\"color: #800000; text-decoration-color: #800000\">❱ </span>1 <span style=\"color: #0000ff; text-decoration-color: #0000ff; font-weight: bold; text-decoration: underline\">from</span><span style=\"color: #808080; text-decoration-color: #808080; font-weight: bold; text-decoration: underline\"> </span><span style=\"color: #00ffff; text-decoration-color: #00ffff; font-weight: bold; text-decoration: underline\">fragalysis.requests.jobs</span><span style=\"color: #808080; text-decoration-color: #808080; font-weight: bold; text-decoration: underline\"> </span><span style=\"color: #0000ff; text-decoration-color: #0000ff; font-weight: bold; text-decoration: underline\">import</span><span style=\"font-weight: bold; text-decoration: underline\"> fragmenstein_combine</span>                                    <span style=\"color: #800000; text-decoration-color: #800000\">│</span>\n",
       "<span style=\"color: #800000; text-decoration-color: #800000\">│</span>   <span style=\"color: #7f7f7f; text-decoration-color: #7f7f7f\">2 </span>                                                                                             <span style=\"color: #800000; text-decoration-color: #800000\">│</span>\n",
       "<span style=\"color: #800000; text-decoration-color: #800000\">│</span>                                                                                                  <span style=\"color: #800000; text-decoration-color: #800000\">│</span>\n",
       "<span style=\"color: #800000; text-decoration-color: #800000\">│</span> <span style=\"color: #000080; text-decoration-color: #000080\">╭─────────────────────────────────────────── locals ───────────────────────────────────────────╮</span> <span style=\"color: #800000; text-decoration-color: #800000\">│</span>\n",
       "<span style=\"color: #800000; text-decoration-color: #800000\">│</span> <span style=\"color: #000080; text-decoration-color: #000080\">│</span> <span style=\"color: #808000; text-decoration-color: #808000; font-style: italic\">active_site_fragments</span><span style=\"color: #800000; text-decoration-color: #800000\"> =</span> <span style=\"font-weight: bold; text-decoration: underline\">poses tagged </span><span style=\"color: #008000; text-decoration-color: #008000; text-decoration: underline\">\"[Other] Active site fragment\"</span><span style=\"font-weight: bold; text-decoration: underline\">: {P × </span><span style=\"color: #008080; text-decoration-color: #008080; font-weight: bold; text-decoration: underline\">44</span><span style=\"font-weight: bold; text-decoration: underline\">}</span>                <span style=\"color: #000080; text-decoration-color: #000080\">│</span> <span style=\"color: #800000; text-decoration-color: #800000\">│</span>\n",
       "<span style=\"color: #800000; text-decoration-color: #800000\">│</span> <span style=\"color: #000080; text-decoration-color: #000080\">│</span>      <span style=\"color: #808000; text-decoration-color: #808000; font-style: italic\">active_site_hits</span><span style=\"color: #800000; text-decoration-color: #800000\"> =</span> <span style=\"font-weight: bold; text-decoration: underline\">poses tagged </span><span style=\"color: #008000; text-decoration-color: #008000; text-decoration: underline\">\"hits\"</span><span style=\"font-weight: bold; text-decoration: underline\"> &amp; </span><span style=\"color: #808000; text-decoration-color: #808000; font-weight: bold; text-decoration: underline\">subsite</span><span style=\"font-weight: bold; text-decoration: underline\">=</span><span style=\"color: #008080; text-decoration-color: #008080; font-weight: bold; text-decoration: underline\">1</span><span style=\"font-weight: bold; text-decoration: underline\">: {P × </span><span style=\"color: #008080; text-decoration-color: #008080; font-weight: bold; text-decoration: underline\">611</span><span style=\"font-weight: bold; text-decoration: underline\">}</span>                           <span style=\"color: #000080; text-decoration-color: #000080\">│</span> <span style=\"color: #800000; text-decoration-color: #800000\">│</span>\n",
       "<span style=\"color: #800000; text-decoration-color: #800000\">│</span> <span style=\"color: #000080; text-decoration-color: #000080\">│</span>                <span style=\"color: #808000; text-decoration-color: #808000; font-style: italic\">animal</span><span style=\"color: #800000; text-decoration-color: #800000\"> =</span> <span style=\"color: #800080; text-decoration-color: #800080; font-weight: bold; text-decoration: underline\">HIPPO</span><span style=\"font-weight: bold; text-decoration: underline\">(</span><span style=\"color: #008000; text-decoration-color: #008000; text-decoration: underline\">\"A71EV2A_demo\"</span><span style=\"font-weight: bold; text-decoration: underline\">)</span>                                                <span style=\"color: #000080; text-decoration-color: #000080\">│</span> <span style=\"color: #800000; text-decoration-color: #800000\">│</span>\n",
       "<span style=\"color: #800000; text-decoration-color: #800000\">│</span> <span style=\"color: #000080; text-decoration-color: #000080\">│</span>                  <span style=\"color: #808000; text-decoration-color: #808000; font-style: italic\">exit</span><span style=\"color: #800000; text-decoration-color: #800000\"> =</span> <span style=\"font-weight: bold\">&lt;</span><span style=\"color: #ff00ff; text-decoration-color: #ff00ff; font-weight: bold\">IPython.core.autocall.ZMQExitAutocall</span><span style=\"color: #000000; text-decoration-color: #000000\"> object at </span><span style=\"color: #008080; text-decoration-color: #008080; font-weight: bold\">0x73984dd37b30</span><span style=\"font-weight: bold\">&gt;</span>     <span style=\"color: #000080; text-decoration-color: #000080\">│</span> <span style=\"color: #800000; text-decoration-color: #800000\">│</span>\n",
       "<span style=\"color: #800000; text-decoration-color: #800000\">│</span> <span style=\"color: #000080; text-decoration-color: #000080\">│</span>           <span style=\"color: #808000; text-decoration-color: #808000; font-style: italic\">get_ipython</span><span style=\"color: #800000; text-decoration-color: #800000\"> =</span> <span style=\"font-weight: bold\">&lt;</span><span style=\"color: #ff00ff; text-decoration-color: #ff00ff; font-weight: bold\">bound</span><span style=\"color: #000000; text-decoration-color: #000000\"> method InteractiveShell.get_ipython of </span>                       <span style=\"color: #000080; text-decoration-color: #000080\">│</span> <span style=\"color: #800000; text-decoration-color: #800000\">│</span>\n",
       "<span style=\"color: #800000; text-decoration-color: #800000\">│</span> <span style=\"color: #000080; text-decoration-color: #000080\">│</span>                         <span style=\"color: #000000; text-decoration-color: #000000\">&lt;ipykernel.zmqshell.ZMQInteractiveShell object at </span><span style=\"color: #008080; text-decoration-color: #008080; font-weight: bold\">0x73984c801160</span><span style=\"color: #000000; text-decoration-color: #000000\">&gt;</span><span style=\"font-weight: bold\">&gt;</span>   <span style=\"color: #000080; text-decoration-color: #000080\">│</span> <span style=\"color: #800000; text-decoration-color: #800000\">│</span>\n",
       "<span style=\"color: #800000; text-decoration-color: #800000\">│</span> <span style=\"color: #000080; text-decoration-color: #000080\">│</span>                 <span style=\"color: #808000; text-decoration-color: #808000; font-style: italic\">hippo</span><span style=\"color: #800000; text-decoration-color: #800000\"> =</span> <span style=\"font-weight: bold\">&lt;</span><span style=\"color: #ff00ff; text-decoration-color: #ff00ff; font-weight: bold\">module</span><span style=\"color: #000000; text-decoration-color: #000000\"> </span><span style=\"color: #008000; text-decoration-color: #008000\">'hippo'</span><span style=\"color: #000000; text-decoration-color: #000000\"> from </span><span style=\"color: #008000; text-decoration-color: #008000\">'/home/jovyan/HIPPO/hippo/__init__.py'</span><span style=\"font-weight: bold\">&gt;</span>         <span style=\"color: #000080; text-decoration-color: #000080\">│</span> <span style=\"color: #800000; text-decoration-color: #800000\">│</span>\n",
       "<span style=\"color: #800000; text-decoration-color: #800000\">│</span> <span style=\"color: #000080; text-decoration-color: #000080\">│</span>                    <span style=\"color: #808000; text-decoration-color: #808000; font-style: italic\">In</span><span style=\"color: #800000; text-decoration-color: #800000\"> =</span> <span style=\"font-weight: bold\">[</span>                                                                    <span style=\"color: #000080; text-decoration-color: #000080\">│</span> <span style=\"color: #800000; text-decoration-color: #800000\">│</span>\n",
       "<span style=\"color: #800000; text-decoration-color: #800000\">│</span> <span style=\"color: #000080; text-decoration-color: #000080\">│</span>                         <span style=\"color: #7fbf7f; text-decoration-color: #7fbf7f\">│   </span><span style=\"color: #008000; text-decoration-color: #008000\">''</span>,                                                              <span style=\"color: #000080; text-decoration-color: #000080\">│</span> <span style=\"color: #800000; text-decoration-color: #800000\">│</span>\n",
       "<span style=\"color: #800000; text-decoration-color: #800000\">│</span> <span style=\"color: #000080; text-decoration-color: #000080\">│</span>                         <span style=\"color: #7fbf7f; text-decoration-color: #7fbf7f\">│   </span><span style=\"color: #008000; text-decoration-color: #008000\">\"# setup the animal\\nget_ipython().run_line_magic('load_ext', </span>   <span style=\"color: #000080; text-decoration-color: #000080\">│</span> <span style=\"color: #800000; text-decoration-color: #800000\">│</span>\n",
       "<span style=\"color: #800000; text-decoration-color: #800000\">│</span> <span style=\"color: #000080; text-decoration-color: #000080\">│</span>                         <span style=\"color: #008000; text-decoration-color: #008000\">'autoreload')\\nget_ip\"</span>+<span style=\"color: #008080; text-decoration-color: #008080; font-weight: bold\">128</span>,                                          <span style=\"color: #000080; text-decoration-color: #000080\">│</span> <span style=\"color: #800000; text-decoration-color: #800000\">│</span>\n",
       "<span style=\"color: #800000; text-decoration-color: #800000\">│</span> <span style=\"color: #000080; text-decoration-color: #000080\">│</span>                         <span style=\"color: #7fbf7f; text-decoration-color: #7fbf7f\">│   </span><span style=\"color: #008000; text-decoration-color: #008000\">'active_site_hits = animal.poses(\"hits\").get_by_subsite(1)'</span>,     <span style=\"color: #000080; text-decoration-color: #000080\">│</span> <span style=\"color: #800000; text-decoration-color: #800000\">│</span>\n",
       "<span style=\"color: #800000; text-decoration-color: #800000\">│</span> <span style=\"color: #000080; text-decoration-color: #000080\">│</span>                         <span style=\"color: #7fbf7f; text-decoration-color: #7fbf7f\">│   </span><span style=\"color: #008000; text-decoration-color: #008000\">'active_site_hits = animal.poses(tag=\"hits\").get_by_subsite(1)'</span>, <span style=\"color: #000080; text-decoration-color: #000080\">│</span> <span style=\"color: #800000; text-decoration-color: #800000\">│</span>\n",
       "<span style=\"color: #800000; text-decoration-color: #800000\">│</span> <span style=\"color: #000080; text-decoration-color: #000080\">│</span>                         <span style=\"color: #7fbf7f; text-decoration-color: #7fbf7f\">│   </span><span style=\"color: #008000; text-decoration-color: #008000\">'active_site_hits = </span>                                             <span style=\"color: #000080; text-decoration-color: #000080\">│</span> <span style=\"color: #800000; text-decoration-color: #800000\">│</span>\n",
       "<span style=\"color: #800000; text-decoration-color: #800000\">│</span> <span style=\"color: #000080; text-decoration-color: #000080\">│</span>                         <span style=\"color: #008000; text-decoration-color: #008000\">animal.poses(tag=\"hits\").get_by_subsite(id=1)'</span>,                      <span style=\"color: #000080; text-decoration-color: #000080\">│</span> <span style=\"color: #800000; text-decoration-color: #800000\">│</span>\n",
       "<span style=\"color: #800000; text-decoration-color: #800000\">│</span> <span style=\"color: #000080; text-decoration-color: #000080\">│</span>                         <span style=\"color: #7fbf7f; text-decoration-color: #7fbf7f\">│   </span><span style=\"color: #008000; text-decoration-color: #008000\">'active_site_hits = </span>                                             <span style=\"color: #000080; text-decoration-color: #000080\">│</span> <span style=\"color: #800000; text-decoration-color: #800000\">│</span>\n",
       "<span style=\"color: #800000; text-decoration-color: #800000\">│</span> <span style=\"color: #000080; text-decoration-color: #000080\">│</span>                         <span style=\"color: #008000; text-decoration-color: #008000\">animal.poses(tag=\"hits\").get_by_subsite(id=1)\\nactive_site_hit'</span>+<span style=\"color: #008080; text-decoration-color: #008080; font-weight: bold\">1</span>,   <span style=\"color: #000080; text-decoration-color: #000080\">│</span> <span style=\"color: #800000; text-decoration-color: #800000\">│</span>\n",
       "<span style=\"color: #800000; text-decoration-color: #800000\">│</span> <span style=\"color: #000080; text-decoration-color: #000080\">│</span>                         <span style=\"color: #7fbf7f; text-decoration-color: #7fbf7f\">│   </span><span style=\"color: #008000; text-decoration-color: #008000\">'active_site_fragments = animal.poses(tag=\"[Other] Active site </span>  <span style=\"color: #000080; text-decoration-color: #000080\">│</span> <span style=\"color: #800000; text-decoration-color: #800000\">│</span>\n",
       "<span style=\"color: #800000; text-decoration-color: #800000\">│</span> <span style=\"color: #000080; text-decoration-color: #000080\">│</span>                         <span style=\"color: #008000; text-decoration-color: #008000\">fragment\")\\nactive_'</span>+<span style=\"color: #008080; text-decoration-color: #008080; font-weight: bold\">14</span>,                                             <span style=\"color: #000080; text-decoration-color: #000080\">│</span> <span style=\"color: #800000; text-decoration-color: #800000\">│</span>\n",
       "<span style=\"color: #800000; text-decoration-color: #800000\">│</span> <span style=\"color: #000080; text-decoration-color: #000080\">│</span>                         <span style=\"color: #7fbf7f; text-decoration-color: #7fbf7f\">│   </span><span style=\"color: #008000; text-decoration-color: #008000\">'animal.poses[\"A0237a\", \"A0207a\"].draw()'</span>,                       <span style=\"color: #000080; text-decoration-color: #000080\">│</span> <span style=\"color: #800000; text-decoration-color: #800000\">│</span>\n",
       "<span style=\"color: #800000; text-decoration-color: #800000\">│</span> <span style=\"color: #000080; text-decoration-color: #000080\">│</span>                         <span style=\"color: #7fbf7f; text-decoration-color: #7fbf7f\">│   </span><span style=\"color: #008000; text-decoration-color: #008000\">'animal.poses[\"A0237a\"].interactions.summary()'</span>,                 <span style=\"color: #000080; text-decoration-color: #000080\">│</span> <span style=\"color: #800000; text-decoration-color: #800000\">│</span>\n",
       "<span style=\"color: #800000; text-decoration-color: #800000\">│</span> <span style=\"color: #000080; text-decoration-color: #000080\">│</span>                         <span style=\"color: #7fbf7f; text-decoration-color: #7fbf7f\">│   </span><span style=\"color: #008000; text-decoration-color: #008000\">'animal.poses[\"A0207a\", \"A0237a\"].draw()'</span>,                       <span style=\"color: #000080; text-decoration-color: #000080\">│</span> <span style=\"color: #800000; text-decoration-color: #800000\">│</span>\n",
       "<span style=\"color: #800000; text-decoration-color: #800000\">│</span> <span style=\"color: #000080; text-decoration-color: #000080\">│</span>                         <span style=\"color: #7fbf7f; text-decoration-color: #7fbf7f\">│   </span><span style=\"color: #808000; text-decoration-color: #808000\">...</span> +<span style=\"color: #008080; text-decoration-color: #008080; font-weight: bold\">45</span>                                                          <span style=\"color: #000080; text-decoration-color: #000080\">│</span> <span style=\"color: #800000; text-decoration-color: #800000\">│</span>\n",
       "<span style=\"color: #800000; text-decoration-color: #800000\">│</span> <span style=\"color: #000080; text-decoration-color: #000080\">│</span>                         <span style=\"font-weight: bold\">]</span>                                                                    <span style=\"color: #000080; text-decoration-color: #000080\">│</span> <span style=\"color: #800000; text-decoration-color: #800000\">│</span>\n",
       "<span style=\"color: #800000; text-decoration-color: #800000\">│</span> <span style=\"color: #000080; text-decoration-color: #000080\">│</span>                 <span style=\"color: #808000; text-decoration-color: #808000; font-style: italic\">mrich</span><span style=\"color: #800000; text-decoration-color: #800000\"> =</span> <span style=\"font-weight: bold\">&lt;</span><span style=\"color: #ff00ff; text-decoration-color: #ff00ff; font-weight: bold\">module</span><span style=\"color: #000000; text-decoration-color: #000000\"> </span><span style=\"color: #008000; text-decoration-color: #008000\">'mrich'</span><span style=\"color: #000000; text-decoration-color: #000000\"> from </span>                                                <span style=\"color: #000080; text-decoration-color: #000080\">│</span> <span style=\"color: #800000; text-decoration-color: #800000\">│</span>\n",
       "<span style=\"color: #800000; text-decoration-color: #800000\">│</span> <span style=\"color: #000080; text-decoration-color: #000080\">│</span>                         <span style=\"color: #008000; text-decoration-color: #008000\">'/opt/conda/lib/python3.12/site-packages/mrich/__init__.py'</span><span style=\"font-weight: bold\">&gt;</span>         <span style=\"color: #000080; text-decoration-color: #000080\">│</span> <span style=\"color: #800000; text-decoration-color: #800000\">│</span>\n",
       "<span style=\"color: #800000; text-decoration-color: #800000\">│</span> <span style=\"color: #000080; text-decoration-color: #000080\">│</span>                   <span style=\"color: #808000; text-decoration-color: #808000; font-style: italic\">Out</span><span style=\"color: #800000; text-decoration-color: #800000\"> =</span> <span style=\"font-weight: bold\">{</span>                                                                    <span style=\"color: #000080; text-decoration-color: #000080\">│</span> <span style=\"color: #800000; text-decoration-color: #800000\">│</span>\n",
       "<span style=\"color: #800000; text-decoration-color: #800000\">│</span> <span style=\"color: #000080; text-decoration-color: #000080\">│</span>                         <span style=\"color: #7fbf7f; text-decoration-color: #7fbf7f\">│   </span><span style=\"color: #008080; text-decoration-color: #008080; font-weight: bold\">5</span>: <span style=\"font-weight: bold; text-decoration: underline\">poses tagged </span><span style=\"color: #008000; text-decoration-color: #008000; text-decoration: underline\">\"hits\"</span><span style=\"font-weight: bold; text-decoration: underline\"> &amp; </span><span style=\"color: #808000; text-decoration-color: #808000; font-weight: bold; text-decoration: underline\">subsite</span><span style=\"font-weight: bold; text-decoration: underline\">=</span><span style=\"color: #008080; text-decoration-color: #008080; font-weight: bold; text-decoration: underline\">1</span><span style=\"font-weight: bold; text-decoration: underline\">: {P × </span><span style=\"color: #008080; text-decoration-color: #008080; font-weight: bold; text-decoration: underline\">611</span><span style=\"font-weight: bold; text-decoration: underline\">}</span>,                   <span style=\"color: #000080; text-decoration-color: #000080\">│</span> <span style=\"color: #800000; text-decoration-color: #800000\">│</span>\n",
       "<span style=\"color: #800000; text-decoration-color: #800000\">│</span> <span style=\"color: #000080; text-decoration-color: #000080\">│</span>                         <span style=\"color: #7fbf7f; text-decoration-color: #7fbf7f\">│   </span><span style=\"color: #008080; text-decoration-color: #008080; font-weight: bold\">6</span>: <span style=\"font-weight: bold; text-decoration: underline\">poses tagged </span><span style=\"color: #008000; text-decoration-color: #008000; text-decoration: underline\">\"[Other] Active site fragment\"</span><span style=\"font-weight: bold; text-decoration: underline\">: {P × </span><span style=\"color: #008080; text-decoration-color: #008080; font-weight: bold; text-decoration: underline\">44</span><span style=\"font-weight: bold; text-decoration: underline\">}</span>,        <span style=\"color: #000080; text-decoration-color: #000080\">│</span> <span style=\"color: #800000; text-decoration-color: #800000\">│</span>\n",
       "<span style=\"color: #800000; text-decoration-color: #800000\">│</span> <span style=\"color: #000080; text-decoration-color: #000080\">│</span>                         <span style=\"color: #7fbf7f; text-decoration-color: #7fbf7f\">│   </span><span style=\"color: #008080; text-decoration-color: #008080; font-weight: bold\">11</span>: <span style=\"color: #008080; text-decoration-color: #008080; font-weight: bold\">2</span>,                                                           <span style=\"color: #000080; text-decoration-color: #000080\">│</span> <span style=\"color: #800000; text-decoration-color: #800000\">│</span>\n",
       "<span style=\"color: #800000; text-decoration-color: #800000\">│</span> <span style=\"color: #000080; text-decoration-color: #000080\">│</span>                         <span style=\"color: #7fbf7f; text-decoration-color: #7fbf7f\">│   </span><span style=\"color: #008080; text-decoration-color: #008080; font-weight: bold\">12</span>: <span style=\"color: #008080; text-decoration-color: #008080; font-weight: bold\">576</span>,                                                         <span style=\"color: #000080; text-decoration-color: #000080\">│</span> <span style=\"color: #800000; text-decoration-color: #800000\">│</span>\n",
       "<span style=\"color: #800000; text-decoration-color: #800000\">│</span> <span style=\"color: #000080; text-decoration-color: #000080\">│</span>                         <span style=\"color: #7fbf7f; text-decoration-color: #7fbf7f\">│   </span><span style=\"color: #008080; text-decoration-color: #008080; font-weight: bold\">13</span>: <span style=\"color: #008080; text-decoration-color: #008080; font-weight: bold\">2</span>,                                                           <span style=\"color: #000080; text-decoration-color: #000080\">│</span> <span style=\"color: #800000; text-decoration-color: #800000\">│</span>\n",
       "<span style=\"color: #800000; text-decoration-color: #800000\">│</span> <span style=\"color: #000080; text-decoration-color: #000080\">│</span>                         <span style=\"color: #7fbf7f; text-decoration-color: #7fbf7f\">│   </span><span style=\"color: #008080; text-decoration-color: #008080; font-weight: bold\">14</span>: <span style=\"color: #008080; text-decoration-color: #008080; font-weight: bold\">2</span>,                                                           <span style=\"color: #000080; text-decoration-color: #000080\">│</span> <span style=\"color: #800000; text-decoration-color: #800000\">│</span>\n",
       "<span style=\"color: #800000; text-decoration-color: #800000\">│</span> <span style=\"color: #000080; text-decoration-color: #000080\">│</span>                         <span style=\"color: #7fbf7f; text-decoration-color: #7fbf7f\">│   </span><span style=\"color: #008080; text-decoration-color: #008080; font-weight: bold\">16</span>: <span style=\"color: #008080; text-decoration-color: #008080; font-weight: bold\">2</span>,                                                           <span style=\"color: #000080; text-decoration-color: #000080\">│</span> <span style=\"color: #800000; text-decoration-color: #800000\">│</span>\n",
       "<span style=\"color: #800000; text-decoration-color: #800000\">│</span> <span style=\"color: #000080; text-decoration-color: #000080\">│</span>                         <span style=\"color: #7fbf7f; text-decoration-color: #7fbf7f\">│   </span><span style=\"color: #008080; text-decoration-color: #008080; font-weight: bold\">17</span>: <span style=\"color: #008080; text-decoration-color: #008080; font-weight: bold\">2</span>,                                                           <span style=\"color: #000080; text-decoration-color: #000080\">│</span> <span style=\"color: #800000; text-decoration-color: #800000\">│</span>\n",
       "<span style=\"color: #800000; text-decoration-color: #800000\">│</span> <span style=\"color: #000080; text-decoration-color: #000080\">│</span>                         <span style=\"color: #7fbf7f; text-decoration-color: #7fbf7f\">│   </span><span style=\"color: #008080; text-decoration-color: #008080; font-weight: bold\">18</span>: <span style=\"color: #008080; text-decoration-color: #008080; font-weight: bold\">1</span>,                                                           <span style=\"color: #000080; text-decoration-color: #000080\">│</span> <span style=\"color: #800000; text-decoration-color: #800000\">│</span>\n",
       "<span style=\"color: #800000; text-decoration-color: #800000\">│</span> <span style=\"color: #000080; text-decoration-color: #000080\">│</span>                         <span style=\"color: #7fbf7f; text-decoration-color: #7fbf7f\">│   </span><span style=\"color: #008080; text-decoration-color: #008080; font-weight: bold\">19</span>: <span style=\"color: #008080; text-decoration-color: #008080; font-weight: bold\">1</span>,                                                           <span style=\"color: #000080; text-decoration-color: #000080\">│</span> <span style=\"color: #800000; text-decoration-color: #800000\">│</span>\n",
       "<span style=\"color: #800000; text-decoration-color: #800000\">│</span> <span style=\"color: #000080; text-decoration-color: #000080\">│</span>                         <span style=\"color: #7fbf7f; text-decoration-color: #7fbf7f\">│   </span><span style=\"color: #808000; text-decoration-color: #808000\">...</span> +<span style=\"color: #008080; text-decoration-color: #008080; font-weight: bold\">17</span>                                                          <span style=\"color: #000080; text-decoration-color: #000080\">│</span> <span style=\"color: #800000; text-decoration-color: #800000\">│</span>\n",
       "<span style=\"color: #800000; text-decoration-color: #800000\">│</span> <span style=\"color: #000080; text-decoration-color: #000080\">│</span>                         <span style=\"font-weight: bold\">}</span>                                                                    <span style=\"color: #000080; text-decoration-color: #000080\">│</span> <span style=\"color: #800000; text-decoration-color: #800000\">│</span>\n",
       "<span style=\"color: #800000; text-decoration-color: #800000\">│</span> <span style=\"color: #000080; text-decoration-color: #000080\">│</span>                  <span style=\"color: #808000; text-decoration-color: #808000; font-style: italic\">pair</span><span style=\"color: #800000; text-decoration-color: #800000\"> =</span> <span style=\"font-weight: bold; text-decoration: underline\">{P × </span><span style=\"color: #008080; text-decoration-color: #008080; font-weight: bold; text-decoration: underline\">2</span><span style=\"font-weight: bold; text-decoration: underline\">}</span>                                                              <span style=\"color: #000080; text-decoration-color: #000080\">│</span> <span style=\"color: #800000; text-decoration-color: #800000\">│</span>\n",
       "<span style=\"color: #800000; text-decoration-color: #800000\">│</span> <span style=\"color: #000080; text-decoration-color: #000080\">│</span>                 <span style=\"color: #808000; text-decoration-color: #808000; font-style: italic\">pairs</span><span style=\"color: #800000; text-decoration-color: #800000\"> =</span> <span style=\"font-weight: bold\">[</span>                                                                    <span style=\"color: #000080; text-decoration-color: #000080\">│</span> <span style=\"color: #800000; text-decoration-color: #800000\">│</span>\n",
       "<span style=\"color: #800000; text-decoration-color: #800000\">│</span> <span style=\"color: #000080; text-decoration-color: #000080\">│</span>                         <span style=\"color: #7fbf7f; text-decoration-color: #7fbf7f\">│   </span><span style=\"font-weight: bold; text-decoration: underline\">{P × </span><span style=\"color: #008080; text-decoration-color: #008080; font-weight: bold; text-decoration: underline\">2</span><span style=\"font-weight: bold; text-decoration: underline\">}</span>,                                                         <span style=\"color: #000080; text-decoration-color: #000080\">│</span> <span style=\"color: #800000; text-decoration-color: #800000\">│</span>\n",
       "<span style=\"color: #800000; text-decoration-color: #800000\">│</span> <span style=\"color: #000080; text-decoration-color: #000080\">│</span>                         <span style=\"color: #7fbf7f; text-decoration-color: #7fbf7f\">│   </span><span style=\"font-weight: bold; text-decoration: underline\">{P × </span><span style=\"color: #008080; text-decoration-color: #008080; font-weight: bold; text-decoration: underline\">2</span><span style=\"font-weight: bold; text-decoration: underline\">}</span>,                                                         <span style=\"color: #000080; text-decoration-color: #000080\">│</span> <span style=\"color: #800000; text-decoration-color: #800000\">│</span>\n",
       "<span style=\"color: #800000; text-decoration-color: #800000\">│</span> <span style=\"color: #000080; text-decoration-color: #000080\">│</span>                         <span style=\"color: #7fbf7f; text-decoration-color: #7fbf7f\">│   </span><span style=\"font-weight: bold; text-decoration: underline\">{P × </span><span style=\"color: #008080; text-decoration-color: #008080; font-weight: bold; text-decoration: underline\">2</span><span style=\"font-weight: bold; text-decoration: underline\">}</span>,                                                         <span style=\"color: #000080; text-decoration-color: #000080\">│</span> <span style=\"color: #800000; text-decoration-color: #800000\">│</span>\n",
       "<span style=\"color: #800000; text-decoration-color: #800000\">│</span> <span style=\"color: #000080; text-decoration-color: #000080\">│</span>                         <span style=\"color: #7fbf7f; text-decoration-color: #7fbf7f\">│   </span><span style=\"font-weight: bold; text-decoration: underline\">{P × </span><span style=\"color: #008080; text-decoration-color: #008080; font-weight: bold; text-decoration: underline\">2</span><span style=\"font-weight: bold; text-decoration: underline\">}</span>,                                                         <span style=\"color: #000080; text-decoration-color: #000080\">│</span> <span style=\"color: #800000; text-decoration-color: #800000\">│</span>\n",
       "<span style=\"color: #800000; text-decoration-color: #800000\">│</span> <span style=\"color: #000080; text-decoration-color: #000080\">│</span>                         <span style=\"color: #7fbf7f; text-decoration-color: #7fbf7f\">│   </span><span style=\"font-weight: bold; text-decoration: underline\">{P × </span><span style=\"color: #008080; text-decoration-color: #008080; font-weight: bold; text-decoration: underline\">2</span><span style=\"font-weight: bold; text-decoration: underline\">}</span>,                                                         <span style=\"color: #000080; text-decoration-color: #000080\">│</span> <span style=\"color: #800000; text-decoration-color: #800000\">│</span>\n",
       "<span style=\"color: #800000; text-decoration-color: #800000\">│</span> <span style=\"color: #000080; text-decoration-color: #000080\">│</span>                         <span style=\"color: #7fbf7f; text-decoration-color: #7fbf7f\">│   </span><span style=\"font-weight: bold; text-decoration: underline\">{P × </span><span style=\"color: #008080; text-decoration-color: #008080; font-weight: bold; text-decoration: underline\">2</span><span style=\"font-weight: bold; text-decoration: underline\">}</span>,                                                         <span style=\"color: #000080; text-decoration-color: #000080\">│</span> <span style=\"color: #800000; text-decoration-color: #800000\">│</span>\n",
       "<span style=\"color: #800000; text-decoration-color: #800000\">│</span> <span style=\"color: #000080; text-decoration-color: #000080\">│</span>                         <span style=\"color: #7fbf7f; text-decoration-color: #7fbf7f\">│   </span><span style=\"font-weight: bold; text-decoration: underline\">{P × </span><span style=\"color: #008080; text-decoration-color: #008080; font-weight: bold; text-decoration: underline\">2</span><span style=\"font-weight: bold; text-decoration: underline\">}</span>,                                                         <span style=\"color: #000080; text-decoration-color: #000080\">│</span> <span style=\"color: #800000; text-decoration-color: #800000\">│</span>\n",
       "<span style=\"color: #800000; text-decoration-color: #800000\">│</span> <span style=\"color: #000080; text-decoration-color: #000080\">│</span>                         <span style=\"color: #7fbf7f; text-decoration-color: #7fbf7f\">│   </span><span style=\"font-weight: bold; text-decoration: underline\">{P × </span><span style=\"color: #008080; text-decoration-color: #008080; font-weight: bold; text-decoration: underline\">2</span><span style=\"font-weight: bold; text-decoration: underline\">}</span>,                                                         <span style=\"color: #000080; text-decoration-color: #000080\">│</span> <span style=\"color: #800000; text-decoration-color: #800000\">│</span>\n",
       "<span style=\"color: #800000; text-decoration-color: #800000\">│</span> <span style=\"color: #000080; text-decoration-color: #000080\">│</span>                         <span style=\"color: #7fbf7f; text-decoration-color: #7fbf7f\">│   </span><span style=\"font-weight: bold; text-decoration: underline\">{P × </span><span style=\"color: #008080; text-decoration-color: #008080; font-weight: bold; text-decoration: underline\">2</span><span style=\"font-weight: bold; text-decoration: underline\">}</span>,                                                         <span style=\"color: #000080; text-decoration-color: #000080\">│</span> <span style=\"color: #800000; text-decoration-color: #800000\">│</span>\n",
       "<span style=\"color: #800000; text-decoration-color: #800000\">│</span> <span style=\"color: #000080; text-decoration-color: #000080\">│</span>                         <span style=\"color: #7fbf7f; text-decoration-color: #7fbf7f\">│   </span><span style=\"font-weight: bold; text-decoration: underline\">{P × </span><span style=\"color: #008080; text-decoration-color: #008080; font-weight: bold; text-decoration: underline\">2</span><span style=\"font-weight: bold; text-decoration: underline\">}</span>,                                                         <span style=\"color: #000080; text-decoration-color: #000080\">│</span> <span style=\"color: #800000; text-decoration-color: #800000\">│</span>\n",
       "<span style=\"color: #800000; text-decoration-color: #800000\">│</span> <span style=\"color: #000080; text-decoration-color: #000080\">│</span>                         <span style=\"color: #7fbf7f; text-decoration-color: #7fbf7f\">│   </span><span style=\"color: #808000; text-decoration-color: #808000\">...</span> +<span style=\"color: #008080; text-decoration-color: #008080; font-weight: bold\">278</span>                                                         <span style=\"color: #000080; text-decoration-color: #000080\">│</span> <span style=\"color: #800000; text-decoration-color: #800000\">│</span>\n",
       "<span style=\"color: #800000; text-decoration-color: #800000\">│</span> <span style=\"color: #000080; text-decoration-color: #000080\">│</span>                         <span style=\"font-weight: bold\">]</span>                                                                    <span style=\"color: #000080; text-decoration-color: #000080\">│</span> <span style=\"color: #800000; text-decoration-color: #800000\">│</span>\n",
       "<span style=\"color: #800000; text-decoration-color: #800000\">│</span> <span style=\"color: #000080; text-decoration-color: #000080\">│</span>                  <span style=\"color: #808000; text-decoration-color: #808000; font-style: italic\">quit</span><span style=\"color: #800000; text-decoration-color: #800000\"> =</span> <span style=\"font-weight: bold\">&lt;</span><span style=\"color: #ff00ff; text-decoration-color: #ff00ff; font-weight: bold\">IPython.core.autocall.ZMQExitAutocall</span><span style=\"color: #000000; text-decoration-color: #000000\"> object at </span><span style=\"color: #008080; text-decoration-color: #008080; font-weight: bold\">0x73984dd37b30</span><span style=\"font-weight: bold\">&gt;</span>     <span style=\"color: #000080; text-decoration-color: #000080\">│</span> <span style=\"color: #800000; text-decoration-color: #800000\">│</span>\n",
       "<span style=\"color: #800000; text-decoration-color: #800000\">│</span> <span style=\"color: #000080; text-decoration-color: #000080\">│</span>              <span style=\"color: #808000; text-decoration-color: #808000; font-style: italic\">ref_pose</span><span style=\"color: #800000; text-decoration-color: #800000\"> =</span> <span style=\"font-weight: bold; text-decoration: underline\">C196-&gt;P219: </span><span style=\"color: #008000; text-decoration-color: #008000; text-decoration: underline\">\"A0739a\"</span>                                                 <span style=\"color: #000080; text-decoration-color: #000080\">│</span> <span style=\"color: #800000; text-decoration-color: #800000\">│</span>\n",
       "<span style=\"color: #800000; text-decoration-color: #800000\">│</span> <span style=\"color: #000080; text-decoration-color: #000080\">│</span>                <span style=\"color: #808000; text-decoration-color: #808000; font-style: italic\">shutil</span><span style=\"color: #800000; text-decoration-color: #800000\"> =</span> <span style=\"font-weight: bold\">&lt;</span><span style=\"color: #ff00ff; text-decoration-color: #ff00ff; font-weight: bold\">module</span><span style=\"color: #000000; text-decoration-color: #000000\"> </span><span style=\"color: #008000; text-decoration-color: #008000\">'shutil'</span><span style=\"color: #000000; text-decoration-color: #000000\"> from </span><span style=\"color: #008000; text-decoration-color: #008000\">'/opt/conda/lib/python3.12/shutil.py'</span><span style=\"font-weight: bold\">&gt;</span>         <span style=\"color: #000080; text-decoration-color: #000080\">│</span> <span style=\"color: #800000; text-decoration-color: #800000\">│</span>\n",
       "<span style=\"color: #800000; text-decoration-color: #800000\">│</span> <span style=\"color: #000080; text-decoration-color: #000080\">╰──────────────────────────────────────────────────────────────────────────────────────────────╯</span> <span style=\"color: #800000; text-decoration-color: #800000\">│</span>\n",
       "<span style=\"color: #800000; text-decoration-color: #800000\">╰──────────────────────────────────────────────────────────────────────────────────────────────────╯</span>\n",
       "<span style=\"color: #ff0000; text-decoration-color: #ff0000; font-weight: bold\">ImportError: </span>cannot import name <span style=\"color: #008000; text-decoration-color: #008000\">'fragmenstein_combine'</span> from <span style=\"color: #008000; text-decoration-color: #008000\">'fragalysis.requests.jobs'</span> \n",
       "<span style=\"font-weight: bold\">(</span><span style=\"color: #800080; text-decoration-color: #800080\">/home/jovyan/fragalysis/fragalysis/requests/</span><span style=\"color: #ff00ff; text-decoration-color: #ff00ff\">jobs.py</span><span style=\"font-weight: bold\">)</span>\n",
       "</pre>\n"
      ],
      "text/plain": [
       "\u001b[31m╭─\u001b[0m\u001b[31m──────────────────────────────\u001b[0m\u001b[31m \u001b[0m\u001b[1;31mTraceback \u001b[0m\u001b[1;2;31m(most recent call last)\u001b[0m\u001b[31m \u001b[0m\u001b[31m───────────────────────────────\u001b[0m\u001b[31m─╮\u001b[0m\n",
       "\u001b[31m│\u001b[0m in <module>:1                                                                                    \u001b[31m│\u001b[0m\n",
       "\u001b[31m│\u001b[0m                                                                                                  \u001b[31m│\u001b[0m\n",
       "\u001b[31m│\u001b[0m \u001b[31m❱ \u001b[0m1 \u001b[1;4;94mfrom\u001b[0m\u001b[1;4;90m \u001b[0m\u001b[1;4;96mfragalysis\u001b[0m\u001b[1;4;96m.\u001b[0m\u001b[1;4;96mrequests\u001b[0m\u001b[1;4;96m.\u001b[0m\u001b[1;4;96mjobs\u001b[0m\u001b[1;4;90m \u001b[0m\u001b[1;4;94mimport\u001b[0m\u001b[1;4m fragmenstein_combine\u001b[0m                                    \u001b[31m│\u001b[0m\n",
       "\u001b[31m│\u001b[0m   \u001b[2m2 \u001b[0m                                                                                             \u001b[31m│\u001b[0m\n",
       "\u001b[31m│\u001b[0m                                                                                                  \u001b[31m│\u001b[0m\n",
       "\u001b[31m│\u001b[0m \u001b[34m╭─\u001b[0m\u001b[34m──────────────────────────────────────────\u001b[0m\u001b[34m locals \u001b[0m\u001b[34m──────────────────────────────────────────\u001b[0m\u001b[34m─╮\u001b[0m \u001b[31m│\u001b[0m\n",
       "\u001b[31m│\u001b[0m \u001b[34m│\u001b[0m \u001b[3;33mactive_site_fragments\u001b[0m\u001b[31m =\u001b[0m \u001b[1;4mposes tagged \u001b[0m\u001b[4;32m\"\u001b[0m\u001b[4;32m[\u001b[0m\u001b[4;32mOther\u001b[0m\u001b[4;32m]\u001b[0m\u001b[4;32m Active site fragment\"\u001b[0m\u001b[1;4m: \u001b[0m\u001b[1;4m{\u001b[0m\u001b[1;4mP × \u001b[0m\u001b[1;4;36m44\u001b[0m\u001b[1;4m}\u001b[0m                \u001b[34m│\u001b[0m \u001b[31m│\u001b[0m\n",
       "\u001b[31m│\u001b[0m \u001b[34m│\u001b[0m      \u001b[3;33mactive_site_hits\u001b[0m\u001b[31m =\u001b[0m \u001b[1;4mposes tagged \u001b[0m\u001b[4;32m\"hits\"\u001b[0m\u001b[1;4m & \u001b[0m\u001b[1;4;33msubsite\u001b[0m\u001b[1;4m=\u001b[0m\u001b[1;4;36m1\u001b[0m\u001b[1;4m: \u001b[0m\u001b[1;4m{\u001b[0m\u001b[1;4mP × \u001b[0m\u001b[1;4;36m611\u001b[0m\u001b[1;4m}\u001b[0m                           \u001b[34m│\u001b[0m \u001b[31m│\u001b[0m\n",
       "\u001b[31m│\u001b[0m \u001b[34m│\u001b[0m                \u001b[3;33manimal\u001b[0m\u001b[31m =\u001b[0m \u001b[1;4;35mHIPPO\u001b[0m\u001b[1;4m(\u001b[0m\u001b[4;32m\"A71EV2A_demo\"\u001b[0m\u001b[1;4m)\u001b[0m                                                \u001b[34m│\u001b[0m \u001b[31m│\u001b[0m\n",
       "\u001b[31m│\u001b[0m \u001b[34m│\u001b[0m                  \u001b[3;33mexit\u001b[0m\u001b[31m =\u001b[0m \u001b[1m<\u001b[0m\u001b[1;95mIPython.core.autocall.ZMQExitAutocall\u001b[0m\u001b[39m object at \u001b[0m\u001b[1;36m0x73984dd37b30\u001b[0m\u001b[1m>\u001b[0m     \u001b[34m│\u001b[0m \u001b[31m│\u001b[0m\n",
       "\u001b[31m│\u001b[0m \u001b[34m│\u001b[0m           \u001b[3;33mget_ipython\u001b[0m\u001b[31m =\u001b[0m \u001b[1m<\u001b[0m\u001b[1;95mbound\u001b[0m\u001b[39m method InteractiveShell.get_ipython of \u001b[0m                       \u001b[34m│\u001b[0m \u001b[31m│\u001b[0m\n",
       "\u001b[31m│\u001b[0m \u001b[34m│\u001b[0m                         \u001b[39m<ipykernel.zmqshell.ZMQInteractiveShell object at \u001b[0m\u001b[1;36m0x73984c801160\u001b[0m\u001b[39m>\u001b[0m\u001b[1m>\u001b[0m   \u001b[34m│\u001b[0m \u001b[31m│\u001b[0m\n",
       "\u001b[31m│\u001b[0m \u001b[34m│\u001b[0m                 \u001b[3;33mhippo\u001b[0m\u001b[31m =\u001b[0m \u001b[1m<\u001b[0m\u001b[1;95mmodule\u001b[0m\u001b[39m \u001b[0m\u001b[32m'hippo'\u001b[0m\u001b[39m from \u001b[0m\u001b[32m'/home/jovyan/HIPPO/hippo/__init__.py'\u001b[0m\u001b[1m>\u001b[0m         \u001b[34m│\u001b[0m \u001b[31m│\u001b[0m\n",
       "\u001b[31m│\u001b[0m \u001b[34m│\u001b[0m                    \u001b[3;33mIn\u001b[0m\u001b[31m =\u001b[0m \u001b[1m[\u001b[0m                                                                    \u001b[34m│\u001b[0m \u001b[31m│\u001b[0m\n",
       "\u001b[31m│\u001b[0m \u001b[34m│\u001b[0m                         \u001b[2;32m│   \u001b[0m\u001b[32m''\u001b[0m,                                                              \u001b[34m│\u001b[0m \u001b[31m│\u001b[0m\n",
       "\u001b[31m│\u001b[0m \u001b[34m│\u001b[0m                         \u001b[2;32m│   \u001b[0m\u001b[32m\"# setup the animal\\nget_ipython\u001b[0m\u001b[32m(\u001b[0m\u001b[32m)\u001b[0m\u001b[32m.run_line_magic\u001b[0m\u001b[32m(\u001b[0m\u001b[32m'load_ext', \u001b[0m   \u001b[34m│\u001b[0m \u001b[31m│\u001b[0m\n",
       "\u001b[31m│\u001b[0m \u001b[34m│\u001b[0m                         \u001b[32m'autoreload'\u001b[0m\u001b[32m)\u001b[0m\u001b[32m\\nget_ip\"\u001b[0m+\u001b[1;36m128\u001b[0m,                                          \u001b[34m│\u001b[0m \u001b[31m│\u001b[0m\n",
       "\u001b[31m│\u001b[0m \u001b[34m│\u001b[0m                         \u001b[2;32m│   \u001b[0m\u001b[32m'active_site_hits = animal.poses\u001b[0m\u001b[32m(\u001b[0m\u001b[32m\"hits\"\u001b[0m\u001b[32m)\u001b[0m\u001b[32m.get_by_subsite\u001b[0m\u001b[32m(\u001b[0m\u001b[32m1\u001b[0m\u001b[32m)\u001b[0m\u001b[32m'\u001b[0m,     \u001b[34m│\u001b[0m \u001b[31m│\u001b[0m\n",
       "\u001b[31m│\u001b[0m \u001b[34m│\u001b[0m                         \u001b[2;32m│   \u001b[0m\u001b[32m'active_site_hits = animal.poses\u001b[0m\u001b[32m(\u001b[0m\u001b[32mtag\u001b[0m\u001b[32m=\u001b[0m\u001b[32m\"hits\"\u001b[0m\u001b[32m)\u001b[0m\u001b[32m.get_by_subsite\u001b[0m\u001b[32m(\u001b[0m\u001b[32m1\u001b[0m\u001b[32m)\u001b[0m\u001b[32m'\u001b[0m, \u001b[34m│\u001b[0m \u001b[31m│\u001b[0m\n",
       "\u001b[31m│\u001b[0m \u001b[34m│\u001b[0m                         \u001b[2;32m│   \u001b[0m\u001b[32m'active_site_hits = \u001b[0m                                             \u001b[34m│\u001b[0m \u001b[31m│\u001b[0m\n",
       "\u001b[31m│\u001b[0m \u001b[34m│\u001b[0m                         \u001b[32manimal.poses\u001b[0m\u001b[32m(\u001b[0m\u001b[32mtag\u001b[0m\u001b[32m=\u001b[0m\u001b[32m\"hits\"\u001b[0m\u001b[32m)\u001b[0m\u001b[32m.get_by_subsite\u001b[0m\u001b[32m(\u001b[0m\u001b[32mid\u001b[0m\u001b[32m=\u001b[0m\u001b[32m1\u001b[0m\u001b[32m)\u001b[0m\u001b[32m'\u001b[0m,                      \u001b[34m│\u001b[0m \u001b[31m│\u001b[0m\n",
       "\u001b[31m│\u001b[0m \u001b[34m│\u001b[0m                         \u001b[2;32m│   \u001b[0m\u001b[32m'active_site_hits = \u001b[0m                                             \u001b[34m│\u001b[0m \u001b[31m│\u001b[0m\n",
       "\u001b[31m│\u001b[0m \u001b[34m│\u001b[0m                         \u001b[32manimal.poses\u001b[0m\u001b[32m(\u001b[0m\u001b[32mtag\u001b[0m\u001b[32m=\u001b[0m\u001b[32m\"hits\"\u001b[0m\u001b[32m)\u001b[0m\u001b[32m.get_by_subsite\u001b[0m\u001b[32m(\u001b[0m\u001b[32mid\u001b[0m\u001b[32m=\u001b[0m\u001b[32m1\u001b[0m\u001b[32m)\u001b[0m\u001b[32m\\nactive_site_hit'\u001b[0m+\u001b[1;36m1\u001b[0m,   \u001b[34m│\u001b[0m \u001b[31m│\u001b[0m\n",
       "\u001b[31m│\u001b[0m \u001b[34m│\u001b[0m                         \u001b[2;32m│   \u001b[0m\u001b[32m'active_site_fragments = animal.poses\u001b[0m\u001b[32m(\u001b[0m\u001b[32mtag\u001b[0m\u001b[32m=\"\u001b[0m\u001b[32m[\u001b[0m\u001b[32mOther\u001b[0m\u001b[32m]\u001b[0m\u001b[32m Active site \u001b[0m  \u001b[34m│\u001b[0m \u001b[31m│\u001b[0m\n",
       "\u001b[31m│\u001b[0m \u001b[34m│\u001b[0m                         \u001b[32mfragment\"\u001b[0m\u001b[32m)\u001b[0m\u001b[32m\\nactive_'\u001b[0m+\u001b[1;36m14\u001b[0m,                                             \u001b[34m│\u001b[0m \u001b[31m│\u001b[0m\n",
       "\u001b[31m│\u001b[0m \u001b[34m│\u001b[0m                         \u001b[2;32m│   \u001b[0m\u001b[32m'animal.poses\u001b[0m\u001b[32m[\u001b[0m\u001b[32m\"A0237a\", \"A0207a\"\u001b[0m\u001b[32m]\u001b[0m\u001b[32m.draw\u001b[0m\u001b[32m(\u001b[0m\u001b[32m)\u001b[0m\u001b[32m'\u001b[0m,                       \u001b[34m│\u001b[0m \u001b[31m│\u001b[0m\n",
       "\u001b[31m│\u001b[0m \u001b[34m│\u001b[0m                         \u001b[2;32m│   \u001b[0m\u001b[32m'animal.poses\u001b[0m\u001b[32m[\u001b[0m\u001b[32m\"A0237a\"\u001b[0m\u001b[32m]\u001b[0m\u001b[32m.interactions.summary\u001b[0m\u001b[32m(\u001b[0m\u001b[32m)\u001b[0m\u001b[32m'\u001b[0m,                 \u001b[34m│\u001b[0m \u001b[31m│\u001b[0m\n",
       "\u001b[31m│\u001b[0m \u001b[34m│\u001b[0m                         \u001b[2;32m│   \u001b[0m\u001b[32m'animal.poses\u001b[0m\u001b[32m[\u001b[0m\u001b[32m\"A0207a\", \"A0237a\"\u001b[0m\u001b[32m]\u001b[0m\u001b[32m.draw\u001b[0m\u001b[32m(\u001b[0m\u001b[32m)\u001b[0m\u001b[32m'\u001b[0m,                       \u001b[34m│\u001b[0m \u001b[31m│\u001b[0m\n",
       "\u001b[31m│\u001b[0m \u001b[34m│\u001b[0m                         \u001b[2;32m│   \u001b[0m\u001b[33m...\u001b[0m +\u001b[1;36m45\u001b[0m                                                          \u001b[34m│\u001b[0m \u001b[31m│\u001b[0m\n",
       "\u001b[31m│\u001b[0m \u001b[34m│\u001b[0m                         \u001b[1m]\u001b[0m                                                                    \u001b[34m│\u001b[0m \u001b[31m│\u001b[0m\n",
       "\u001b[31m│\u001b[0m \u001b[34m│\u001b[0m                 \u001b[3;33mmrich\u001b[0m\u001b[31m =\u001b[0m \u001b[1m<\u001b[0m\u001b[1;95mmodule\u001b[0m\u001b[39m \u001b[0m\u001b[32m'mrich'\u001b[0m\u001b[39m from \u001b[0m                                                \u001b[34m│\u001b[0m \u001b[31m│\u001b[0m\n",
       "\u001b[31m│\u001b[0m \u001b[34m│\u001b[0m                         \u001b[32m'/opt/conda/lib/python3.12/site-packages/mrich/__init__.py'\u001b[0m\u001b[1m>\u001b[0m         \u001b[34m│\u001b[0m \u001b[31m│\u001b[0m\n",
       "\u001b[31m│\u001b[0m \u001b[34m│\u001b[0m                   \u001b[3;33mOut\u001b[0m\u001b[31m =\u001b[0m \u001b[1m{\u001b[0m                                                                    \u001b[34m│\u001b[0m \u001b[31m│\u001b[0m\n",
       "\u001b[31m│\u001b[0m \u001b[34m│\u001b[0m                         \u001b[2;32m│   \u001b[0m\u001b[1;36m5\u001b[0m: \u001b[1;4mposes tagged \u001b[0m\u001b[4;32m\"hits\"\u001b[0m\u001b[1;4m & \u001b[0m\u001b[1;4;33msubsite\u001b[0m\u001b[1;4m=\u001b[0m\u001b[1;4;36m1\u001b[0m\u001b[1;4m: \u001b[0m\u001b[1;4m{\u001b[0m\u001b[1;4mP × \u001b[0m\u001b[1;4;36m611\u001b[0m\u001b[1;4m}\u001b[0m,                   \u001b[34m│\u001b[0m \u001b[31m│\u001b[0m\n",
       "\u001b[31m│\u001b[0m \u001b[34m│\u001b[0m                         \u001b[2;32m│   \u001b[0m\u001b[1;36m6\u001b[0m: \u001b[1;4mposes tagged \u001b[0m\u001b[4;32m\"\u001b[0m\u001b[4;32m[\u001b[0m\u001b[4;32mOther\u001b[0m\u001b[4;32m]\u001b[0m\u001b[4;32m Active site fragment\"\u001b[0m\u001b[1;4m: \u001b[0m\u001b[1;4m{\u001b[0m\u001b[1;4mP × \u001b[0m\u001b[1;4;36m44\u001b[0m\u001b[1;4m}\u001b[0m,        \u001b[34m│\u001b[0m \u001b[31m│\u001b[0m\n",
       "\u001b[31m│\u001b[0m \u001b[34m│\u001b[0m                         \u001b[2;32m│   \u001b[0m\u001b[1;36m11\u001b[0m: \u001b[1;36m2\u001b[0m,                                                           \u001b[34m│\u001b[0m \u001b[31m│\u001b[0m\n",
       "\u001b[31m│\u001b[0m \u001b[34m│\u001b[0m                         \u001b[2;32m│   \u001b[0m\u001b[1;36m12\u001b[0m: \u001b[1;36m576\u001b[0m,                                                         \u001b[34m│\u001b[0m \u001b[31m│\u001b[0m\n",
       "\u001b[31m│\u001b[0m \u001b[34m│\u001b[0m                         \u001b[2;32m│   \u001b[0m\u001b[1;36m13\u001b[0m: \u001b[1;36m2\u001b[0m,                                                           \u001b[34m│\u001b[0m \u001b[31m│\u001b[0m\n",
       "\u001b[31m│\u001b[0m \u001b[34m│\u001b[0m                         \u001b[2;32m│   \u001b[0m\u001b[1;36m14\u001b[0m: \u001b[1;36m2\u001b[0m,                                                           \u001b[34m│\u001b[0m \u001b[31m│\u001b[0m\n",
       "\u001b[31m│\u001b[0m \u001b[34m│\u001b[0m                         \u001b[2;32m│   \u001b[0m\u001b[1;36m16\u001b[0m: \u001b[1;36m2\u001b[0m,                                                           \u001b[34m│\u001b[0m \u001b[31m│\u001b[0m\n",
       "\u001b[31m│\u001b[0m \u001b[34m│\u001b[0m                         \u001b[2;32m│   \u001b[0m\u001b[1;36m17\u001b[0m: \u001b[1;36m2\u001b[0m,                                                           \u001b[34m│\u001b[0m \u001b[31m│\u001b[0m\n",
       "\u001b[31m│\u001b[0m \u001b[34m│\u001b[0m                         \u001b[2;32m│   \u001b[0m\u001b[1;36m18\u001b[0m: \u001b[1;36m1\u001b[0m,                                                           \u001b[34m│\u001b[0m \u001b[31m│\u001b[0m\n",
       "\u001b[31m│\u001b[0m \u001b[34m│\u001b[0m                         \u001b[2;32m│   \u001b[0m\u001b[1;36m19\u001b[0m: \u001b[1;36m1\u001b[0m,                                                           \u001b[34m│\u001b[0m \u001b[31m│\u001b[0m\n",
       "\u001b[31m│\u001b[0m \u001b[34m│\u001b[0m                         \u001b[2;32m│   \u001b[0m\u001b[33m...\u001b[0m +\u001b[1;36m17\u001b[0m                                                          \u001b[34m│\u001b[0m \u001b[31m│\u001b[0m\n",
       "\u001b[31m│\u001b[0m \u001b[34m│\u001b[0m                         \u001b[1m}\u001b[0m                                                                    \u001b[34m│\u001b[0m \u001b[31m│\u001b[0m\n",
       "\u001b[31m│\u001b[0m \u001b[34m│\u001b[0m                  \u001b[3;33mpair\u001b[0m\u001b[31m =\u001b[0m \u001b[1;4m{\u001b[0m\u001b[1;4mP × \u001b[0m\u001b[1;4;36m2\u001b[0m\u001b[1;4m}\u001b[0m                                                              \u001b[34m│\u001b[0m \u001b[31m│\u001b[0m\n",
       "\u001b[31m│\u001b[0m \u001b[34m│\u001b[0m                 \u001b[3;33mpairs\u001b[0m\u001b[31m =\u001b[0m \u001b[1m[\u001b[0m                                                                    \u001b[34m│\u001b[0m \u001b[31m│\u001b[0m\n",
       "\u001b[31m│\u001b[0m \u001b[34m│\u001b[0m                         \u001b[2;32m│   \u001b[0m\u001b[1;4m{\u001b[0m\u001b[1;4mP × \u001b[0m\u001b[1;4;36m2\u001b[0m\u001b[1;4m}\u001b[0m,                                                         \u001b[34m│\u001b[0m \u001b[31m│\u001b[0m\n",
       "\u001b[31m│\u001b[0m \u001b[34m│\u001b[0m                         \u001b[2;32m│   \u001b[0m\u001b[1;4m{\u001b[0m\u001b[1;4mP × \u001b[0m\u001b[1;4;36m2\u001b[0m\u001b[1;4m}\u001b[0m,                                                         \u001b[34m│\u001b[0m \u001b[31m│\u001b[0m\n",
       "\u001b[31m│\u001b[0m \u001b[34m│\u001b[0m                         \u001b[2;32m│   \u001b[0m\u001b[1;4m{\u001b[0m\u001b[1;4mP × \u001b[0m\u001b[1;4;36m2\u001b[0m\u001b[1;4m}\u001b[0m,                                                         \u001b[34m│\u001b[0m \u001b[31m│\u001b[0m\n",
       "\u001b[31m│\u001b[0m \u001b[34m│\u001b[0m                         \u001b[2;32m│   \u001b[0m\u001b[1;4m{\u001b[0m\u001b[1;4mP × \u001b[0m\u001b[1;4;36m2\u001b[0m\u001b[1;4m}\u001b[0m,                                                         \u001b[34m│\u001b[0m \u001b[31m│\u001b[0m\n",
       "\u001b[31m│\u001b[0m \u001b[34m│\u001b[0m                         \u001b[2;32m│   \u001b[0m\u001b[1;4m{\u001b[0m\u001b[1;4mP × \u001b[0m\u001b[1;4;36m2\u001b[0m\u001b[1;4m}\u001b[0m,                                                         \u001b[34m│\u001b[0m \u001b[31m│\u001b[0m\n",
       "\u001b[31m│\u001b[0m \u001b[34m│\u001b[0m                         \u001b[2;32m│   \u001b[0m\u001b[1;4m{\u001b[0m\u001b[1;4mP × \u001b[0m\u001b[1;4;36m2\u001b[0m\u001b[1;4m}\u001b[0m,                                                         \u001b[34m│\u001b[0m \u001b[31m│\u001b[0m\n",
       "\u001b[31m│\u001b[0m \u001b[34m│\u001b[0m                         \u001b[2;32m│   \u001b[0m\u001b[1;4m{\u001b[0m\u001b[1;4mP × \u001b[0m\u001b[1;4;36m2\u001b[0m\u001b[1;4m}\u001b[0m,                                                         \u001b[34m│\u001b[0m \u001b[31m│\u001b[0m\n",
       "\u001b[31m│\u001b[0m \u001b[34m│\u001b[0m                         \u001b[2;32m│   \u001b[0m\u001b[1;4m{\u001b[0m\u001b[1;4mP × \u001b[0m\u001b[1;4;36m2\u001b[0m\u001b[1;4m}\u001b[0m,                                                         \u001b[34m│\u001b[0m \u001b[31m│\u001b[0m\n",
       "\u001b[31m│\u001b[0m \u001b[34m│\u001b[0m                         \u001b[2;32m│   \u001b[0m\u001b[1;4m{\u001b[0m\u001b[1;4mP × \u001b[0m\u001b[1;4;36m2\u001b[0m\u001b[1;4m}\u001b[0m,                                                         \u001b[34m│\u001b[0m \u001b[31m│\u001b[0m\n",
       "\u001b[31m│\u001b[0m \u001b[34m│\u001b[0m                         \u001b[2;32m│   \u001b[0m\u001b[1;4m{\u001b[0m\u001b[1;4mP × \u001b[0m\u001b[1;4;36m2\u001b[0m\u001b[1;4m}\u001b[0m,                                                         \u001b[34m│\u001b[0m \u001b[31m│\u001b[0m\n",
       "\u001b[31m│\u001b[0m \u001b[34m│\u001b[0m                         \u001b[2;32m│   \u001b[0m\u001b[33m...\u001b[0m +\u001b[1;36m278\u001b[0m                                                         \u001b[34m│\u001b[0m \u001b[31m│\u001b[0m\n",
       "\u001b[31m│\u001b[0m \u001b[34m│\u001b[0m                         \u001b[1m]\u001b[0m                                                                    \u001b[34m│\u001b[0m \u001b[31m│\u001b[0m\n",
       "\u001b[31m│\u001b[0m \u001b[34m│\u001b[0m                  \u001b[3;33mquit\u001b[0m\u001b[31m =\u001b[0m \u001b[1m<\u001b[0m\u001b[1;95mIPython.core.autocall.ZMQExitAutocall\u001b[0m\u001b[39m object at \u001b[0m\u001b[1;36m0x73984dd37b30\u001b[0m\u001b[1m>\u001b[0m     \u001b[34m│\u001b[0m \u001b[31m│\u001b[0m\n",
       "\u001b[31m│\u001b[0m \u001b[34m│\u001b[0m              \u001b[3;33mref_pose\u001b[0m\u001b[31m =\u001b[0m \u001b[1;4mC196->P219: \u001b[0m\u001b[4;32m\"A0739a\"\u001b[0m                                                 \u001b[34m│\u001b[0m \u001b[31m│\u001b[0m\n",
       "\u001b[31m│\u001b[0m \u001b[34m│\u001b[0m                \u001b[3;33mshutil\u001b[0m\u001b[31m =\u001b[0m \u001b[1m<\u001b[0m\u001b[1;95mmodule\u001b[0m\u001b[39m \u001b[0m\u001b[32m'shutil'\u001b[0m\u001b[39m from \u001b[0m\u001b[32m'/opt/conda/lib/python3.12/shutil.py'\u001b[0m\u001b[1m>\u001b[0m         \u001b[34m│\u001b[0m \u001b[31m│\u001b[0m\n",
       "\u001b[31m│\u001b[0m \u001b[34m╰──────────────────────────────────────────────────────────────────────────────────────────────╯\u001b[0m \u001b[31m│\u001b[0m\n",
       "\u001b[31m╰──────────────────────────────────────────────────────────────────────────────────────────────────╯\u001b[0m\n",
       "\u001b[1;91mImportError: \u001b[0mcannot import name \u001b[32m'fragmenstein_combine'\u001b[0m from \u001b[32m'fragalysis.requests.jobs'\u001b[0m \n",
       "\u001b[1m(\u001b[0m\u001b[35m/home/jovyan/fragalysis/fragalysis/requests/\u001b[0m\u001b[95mjobs.py\u001b[0m\u001b[1m)\u001b[0m\n"
      ]
     },
     "metadata": {},
     "output_type": "display_data"
    }
   ],
   "source": [
    "from fragalysis.requests.jobs import fragmenstein_combine"
   ]
  },
  {
   "cell_type": "code",
   "execution_count": null,
   "id": "2f7c0f33-11dd-4d1b-8440-e406cc6d12c3",
   "metadata": {},
   "outputs": [],
   "source": []
  }
 ],
 "metadata": {
  "kernelspec": {
   "display_name": "Python 3 (ipykernel)",
   "language": "python",
   "name": "python3"
  },
  "language_info": {
   "codemirror_mode": {
    "name": "ipython",
    "version": 3
   },
   "file_extension": ".py",
   "mimetype": "text/x-python",
   "name": "python",
   "nbconvert_exporter": "python",
   "pygments_lexer": "ipython3",
   "version": "3.12.10"
  }
 },
 "nbformat": 4,
 "nbformat_minor": 5
}
