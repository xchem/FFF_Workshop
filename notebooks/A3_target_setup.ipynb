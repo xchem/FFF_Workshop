{
 "cells": [
  {
   "cell_type": "markdown",
   "id": "a03efb3d-b05c-46e3-a8a4-4c6cb2bcef28",
   "metadata": {},
   "source": [
    "# FFF Workshop\n",
    "\n",
    "## A3: Project setup and HIPPO introduction\n",
    "\n",
    "### Outline\n",
    "\n",
    "- Download a target from Fragalysis\n",
    "- Create a HIPPO project and database\n",
    "- Load Fragalysis data\n",
    "- Explore the data\n",
    "\n",
    "## Download a target from Fragalysis\n",
    "\n",
    "Use the cell below to use the Fragalysis IPython Widgets to select a target for download. For private targets paste in an authentication token obtained from the Fragalysis frontend."
   ]
  },
  {
   "cell_type": "code",
   "execution_count": null,
   "id": "c3f78982-ca8e-49f2-8027-8051f1c8c20d",
   "metadata": {},
   "outputs": [],
   "source": [
    "from fragalysis.widgets import download\n",
    "download(destination=\"../data\")"
   ]
  },
  {
   "cell_type": "markdown",
   "id": "09f371d0-a37f-4b89-bd1b-4068a7979d66",
   "metadata": {},
   "source": [
    "## Create a HIPPO project and database\n",
    "\n",
    "Creating a `HIPPO` *animal* object will automatically create an empty sqlite database if it doesn't already exist."
   ]
  },
  {
   "cell_type": "code",
   "execution_count": null,
   "id": "c610b3d3-408d-411a-a5d2-2c708e69265f",
   "metadata": {},
   "outputs": [],
   "source": [
    "%load_ext autoreload\n",
    "%autoreload 2\n",
    "import hippo\n",
    "animal = hippo.HIPPO(\n",
    "    \"A71EV2A_demo\",\n",
    "    \"../data/A71EV2A.sqlite\",\n",
    ")"
   ]
  },
  {
   "cell_type": "markdown",
   "id": "95faf5d5-c667-45c3-aef5-4878da79563b",
   "metadata": {},
   "source": [
    "## Load the Fragalysis poses\n",
    "\n",
    "To load the downloaded Fragalysis poses into HIPPO use the `HIPPO.add_hits()` method:"
   ]
  },
  {
   "cell_type": "code",
   "execution_count": null,
   "id": "65090aad-a2e9-4c8a-aa86-4747c28104df",
   "metadata": {
    "scrolled": true
   },
   "outputs": [],
   "source": [
    "animal.add_hits(\n",
    "    target_name=\"A71EV2A\",\n",
    "    metadata_csv=\"../data/A71EV2A/metadata.csv\",\n",
    "    aligned_directory=\"../data/A71EV2A/aligned_files\",\n",
    "    load_pose_mols=True, # this is optional but saves time later\n",
    ")"
   ]
  },
  {
   "cell_type": "markdown",
   "id": "763d9d13-9ddb-4c64-8474-3cbae17b4720",
   "metadata": {},
   "source": [
    "## Load SoakDB compounds\n",
    "\n",
    "Fragalysis downloads often come with SoakDB files, and these provide a record of any soaking experiment against the target. To see a list of available files run the following cell:"
   ]
  },
  {
   "cell_type": "code",
   "execution_count": null,
   "id": "357046f7-11ed-48e8-9904-86dd1c2b585f",
   "metadata": {},
   "outputs": [],
   "source": [
    "from pathlib import Path\n",
    "[str(s) for s in Path(\"../data/A71EV2A\").glob(\"extra_files_?/soakdb_*-*.csv\")]"
   ]
  },
  {
   "cell_type": "markdown",
   "id": "09f104f3-d3f0-4314-a03d-72b90a600ed1",
   "metadata": {},
   "source": [
    "To load this data into HIPPO use the `HIPPO.add_soakdb_compounds()` method:"
   ]
  },
  {
   "cell_type": "code",
   "execution_count": null,
   "id": "6c7d3e41-678d-4514-8abd-c103d9ad56f9",
   "metadata": {},
   "outputs": [],
   "source": [
    "animal.add_soakdb_compounds(\"../data/A71EV2A/extra_files_1/soakdb_lb32627-66.csv\")"
   ]
  },
  {
   "cell_type": "markdown",
   "id": "e880b59e-32a1-4879-809e-a0f4c53fae8d",
   "metadata": {},
   "source": [
    "## Explore the data\n",
    "\n",
    "The HIPPO database now contains a few thousand compounds, hundreds of poses which are annotated with tags."
   ]
  },
  {
   "cell_type": "code",
   "execution_count": null,
   "id": "0183cecd-1808-4213-87ad-1dd9796fd5fd",
   "metadata": {},
   "outputs": [],
   "source": [
    "animal.summary()"
   ]
  },
  {
   "cell_type": "markdown",
   "id": "0bc9063d-d595-4c00-be07-274d79911a3c",
   "metadata": {},
   "source": [
    "Tags are the most convenient way to group compounds and poses in HIPPO. \n",
    "\n",
    "In the list above, `[Other] ...` and `[Series] ...` tags are taken directly from the Fragalysis metadata CSV. `hits` and `soaks` were added during the `add_hits` and `add_soakdb_compounds` processes.\n",
    "\n",
    "Tags can be used to make selections:"
   ]
  },
  {
   "cell_type": "code",
   "execution_count": null,
   "id": "3c4aae6b-954c-4c0c-a1ee-a7734c42d123",
   "metadata": {},
   "outputs": [],
   "source": [
    "soaks = animal.compounds(tag=\"soaks\")\n",
    "soaks"
   ]
  },
  {
   "cell_type": "markdown",
   "id": "02025b02-f344-4171-8acf-b13ea35dd883",
   "metadata": {},
   "source": [
    "This is a `CompoundSet` object, which is a subset of the full `CompoundTable`. More on this in the next notebook/session. But you can look at it's contents in a few ways:\n",
    "\n",
    "### Interactive widget"
   ]
  },
  {
   "cell_type": "code",
   "execution_count": null,
   "id": "b1e2505e-853e-4830-8434-ce0dc1b3191d",
   "metadata": {},
   "outputs": [],
   "source": [
    "soaks.interactive()"
   ]
  },
  {
   "cell_type": "markdown",
   "id": "f2ebdcf1-08b9-432b-a0f7-370a5933ae39",
   "metadata": {},
   "source": [
    "### Draw a compound grid\n",
    "\n",
    "(this is for the first 12 compounds)"
   ]
  },
  {
   "cell_type": "code",
   "execution_count": null,
   "id": "50e3a429-14d7-491b-ab5e-77ca53ad9cb5",
   "metadata": {},
   "outputs": [],
   "source": [
    "soaks[:6].draw()"
   ]
  },
  {
   "cell_type": "markdown",
   "id": "6223c502-6de5-44df-8cc5-e0e30ba2268f",
   "metadata": {},
   "source": [
    "Compounds have a shorthand name with the prefix `C`, e.g. `C3` is compound with ID 3 in the database. \n",
    "\n",
    "C3 can be accessed directly from the animal object in a couple ways:"
   ]
  },
  {
   "cell_type": "code",
   "execution_count": null,
   "id": "d4c369a8-126e-4065-8cc9-86bfe4ff5b94",
   "metadata": {},
   "outputs": [],
   "source": [
    "# get using shorthand\n",
    "c3 = animal.C3\n",
    "\n",
    "# get using ID\n",
    "c3 = animal.compounds[3]\n",
    "\n",
    "# get using alias (assigned from SoakDB)\n",
    "c3 = animal.compounds[\"ASAP-0032121-001\"]\n",
    "\n",
    "display(c3) # gives you a formatted string representation\n",
    "c3.draw() # gives you a 2D RDKit drawing"
   ]
  },
  {
   "cell_type": "markdown",
   "id": "714b5905-208d-49d8-8efc-b6c54e577e3d",
   "metadata": {},
   "source": [
    "The `Compound` class gives quick access to properties and other representations:"
   ]
  },
  {
   "cell_type": "code",
   "execution_count": null,
   "id": "0ee470c4-bda1-4b01-9a35-40912a6d9118",
   "metadata": {},
   "outputs": [],
   "source": [
    "# Alias (optional)\n",
    "print(c3.alias)\n",
    "\n",
    "# SMILE string\n",
    "print(c3.smiles)\n",
    "\n",
    "# InCHI-Key\n",
    "print(c3.inchikey)\n",
    "\n",
    "# molecular weight\n",
    "print(c3.molecular_weight)\n",
    "\n",
    "# RDKit molecule\n",
    "c3.mol"
   ]
  },
  {
   "cell_type": "markdown",
   "id": "4f4a3c33-ec09-4a87-a8e3-00ef902f4683",
   "metadata": {},
   "source": [
    "`Compound` objects also have a metadata dictionary stored in the database. This can be freely used to store any JSON serialisable data in the database:"
   ]
  },
  {
   "cell_type": "code",
   "execution_count": null,
   "id": "586595a9-f1e1-4723-80f4-e35661f3b11a",
   "metadata": {},
   "outputs": [],
   "source": [
    "c3.metadata"
   ]
  },
  {
   "cell_type": "code",
   "execution_count": null,
   "id": "ceafe678-c338-4a99-8d80-4e6a6c55da9f",
   "metadata": {},
   "outputs": [],
   "source": [
    "c3.metadata[\"test_string\"] = \"Max thinks this compound is cool\"\n",
    "c3.metadata"
   ]
  },
  {
   "cell_type": "markdown",
   "id": "1fe277fa-78e9-4902-97ba-a7f251cb3bcf",
   "metadata": {},
   "source": [
    "The full `Compound` API reference can be found [here](https://hippo-docs.winokan.com/en/latest/compounds.html#hippo.compound.Compound)"
   ]
  },
  {
   "cell_type": "markdown",
   "id": "45d48484-23db-4815-805f-f3f6e0b648f9",
   "metadata": {},
   "source": [
    "### Poses\n",
    "\n",
    "`Pose` objects are 3D protein-ligand conformers associated with a `Compound` object. During `add_hits` all the Fragalysis observations were loaded as separate HIPPO poses:"
   ]
  },
  {
   "cell_type": "code",
   "execution_count": null,
   "id": "fd0ffe0f-1378-4bb8-afe4-c3dc3001b42a",
   "metadata": {},
   "outputs": [],
   "source": [
    "observations = animal.poses(tag=\"hits\")\n",
    "observations"
   ]
  },
  {
   "cell_type": "markdown",
   "id": "88232238-14e7-4bb6-a31a-f2e7791ea535",
   "metadata": {},
   "source": [
    "This is a `PoseSet` object, which is a subset of the full `PoseTable`. Again, more on this in the next notebook/session. But you can look at it's contents in similar ways to `CompoundSet` objects:"
   ]
  },
  {
   "cell_type": "code",
   "execution_count": null,
   "id": "be4f6503-ab4b-456a-ade4-4d20997a9348",
   "metadata": {},
   "outputs": [],
   "source": [
    "# interactive widget\n",
    "observations.interactive()"
   ]
  },
  {
   "cell_type": "code",
   "execution_count": null,
   "id": "e1de5a6b-0ae3-4007-a017-0b4ca5462e10",
   "metadata": {},
   "outputs": [],
   "source": [
    "# render conformations of the first 3 poses\n",
    "observations[:3].draw()"
   ]
  },
  {
   "cell_type": "markdown",
   "id": "84484135-d235-4300-a5fb-497db91e4861",
   "metadata": {},
   "source": [
    "Poses have a shorthand name with the prefix `P`, e.g. `P3` is the pose with ID 3 in the database. \n",
    "\n",
    "P12 can be accessed directly from the animal object in a couple ways:"
   ]
  },
  {
   "cell_type": "code",
   "execution_count": null,
   "id": "6f12dd4c-5c90-48ba-bd77-5ba42cbcf9f6",
   "metadata": {},
   "outputs": [],
   "source": [
    "# get using shorthand\n",
    "p3 = animal.P3\n",
    "\n",
    "# get using ID\n",
    "p3 = animal.poses[3]\n",
    "\n",
    "# get using alias (assigned from Fragalysis observation short code)\n",
    "p3 = animal.poses[\"A4343a\"]\n",
    "\n",
    "display(p3) # gives you a formatted string representation\n",
    "p3.draw() # gives you a Py3DMol render of the ligand\n",
    "p3.render() # gives you a Py3DMol render of the protein and ligand"
   ]
  },
  {
   "cell_type": "markdown",
   "id": "744b942e-97cb-41fc-8a78-6687378c0b01",
   "metadata": {},
   "source": [
    "The `Pose` class gives quick access to properties and other representations:"
   ]
  },
  {
   "cell_type": "code",
   "execution_count": null,
   "id": "7a98aaa4-7aeb-4434-b7d6-c184aa411b5c",
   "metadata": {},
   "outputs": [],
   "source": [
    "# Alias (optional)\n",
    "print(p3.alias)\n",
    "\n",
    "# SMILE string\n",
    "print(p3.smiles)\n",
    "\n",
    "# InCHI-Key\n",
    "print(p3.inchikey)\n",
    "\n",
    "# metadata\n",
    "print(p3.metadata)\n",
    "\n",
    "# RDKit molecule\n",
    "p3.mol"
   ]
  },
  {
   "cell_type": "markdown",
   "id": "7629bf37-7562-4325-9479-6c806c711039",
   "metadata": {},
   "source": [
    "The full `Pose` API reference can be found [here](https://hippo-docs.winokan.com/en/latest/poses.html#hippo.pose.Pose)"
   ]
  },
  {
   "cell_type": "code",
   "execution_count": null,
   "id": "0d23c1a4-b07f-42c6-94d5-0c4a6ba3fc3c",
   "metadata": {},
   "outputs": [],
   "source": []
  }
 ],
 "metadata": {
  "kernelspec": {
   "display_name": "Python 3 (ipykernel)",
   "language": "python",
   "name": "python3"
  },
  "language_info": {
   "codemirror_mode": {
    "name": "ipython",
    "version": 3
   },
   "file_extension": ".py",
   "mimetype": "text/x-python",
   "name": "python",
   "nbconvert_exporter": "python",
   "pygments_lexer": "ipython3",
   "version": "3.12.10"
  }
 },
 "nbformat": 4,
 "nbformat_minor": 5
}
