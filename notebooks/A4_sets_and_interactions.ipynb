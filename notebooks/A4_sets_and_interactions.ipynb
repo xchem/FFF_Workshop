{
 "cells": [
  {
   "cell_type": "markdown",
   "id": "ab403a93-6458-4cc7-9f80-f9c4c9167dcc",
   "metadata": {},
   "source": [
    "# FFF Workshop\n",
    "\n",
    "## A4: Selections and interactions\n",
    "\n",
    "### Outline\n",
    "\n",
    "- Selecting sets of compounds and poses\n",
    "- Working with dataframes\n",
    "\n",
    "\n",
    "- Subsite selection\n",
    "- Subsite assignment\n",
    "\t- From canonsite\n",
    "\t- Manual\n",
    "\t- Posebutcher?\n",
    "- Interaction profiling\n",
    "- Interaction visualisation"
   ]
  },
  {
   "cell_type": "markdown",
   "id": "14f73bac-70d7-4f1a-bd08-064e274aaabd",
   "metadata": {
    "jp-MarkdownHeadingCollapsed": true
   },
   "source": [
    "## Selecting sets of compounds and poses\n",
    "\n",
    "Below are some examples of how selections of compounds and poses can be created"
   ]
  },
  {
   "cell_type": "code",
   "execution_count": null,
   "id": "12b84d22-9b81-4aa0-a97c-b01e2036ab2c",
   "metadata": {},
   "outputs": [],
   "source": [
    "# setup the animal\n",
    "%load_ext autoreload\n",
    "%autoreload 2\n",
    "# from mrich import print\n",
    "import hippo\n",
    "animal = hippo.HIPPO(\n",
    "    \"A71EV2A_demo\",\n",
    "    \"../data/A71EV2A.sqlite\",\n",
    ")"
   ]
  },
  {
   "cell_type": "code",
   "execution_count": null,
   "id": "f55fce93-c4ae-489c-aba6-c4f539c74eb0",
   "metadata": {},
   "outputs": [],
   "source": [
    "# by tag\n",
    "soaks = animal.compounds(tag=\"soaks\")\n",
    "print(soaks)\n",
    "\n",
    "# by ids\n",
    "cset = animal.compounds[1,3,4,6,12,43]\n",
    "print(\"compounds with ID's 1,3,4,6,12,43:\", cset)\n",
    "\n",
    "# from set of poses\n",
    "hit_compounds = animal.poses(tag=\"hits\").compounds\n",
    "print(\"hit compounds:\", hit_compounds)\n",
    "\n",
    "# by metadata info\n",
    "double_soaks = hit_compounds.get_by_metadata(key=\"SoakDB count\", value=2)\n",
    "print(\"double soaks:\", double_soaks)"
   ]
  },
  {
   "cell_type": "markdown",
   "id": "0dec6b91-5f79-47ec-9d14-dfa7f7a0c9f2",
   "metadata": {},
   "source": [
    "Some boolean operations are also supported:"
   ]
  },
  {
   "cell_type": "code",
   "execution_count": null,
   "id": "d676780e-7557-486f-aac0-e1a0b05d7c93",
   "metadata": {},
   "outputs": [],
   "source": [
    "# add two sets:\n",
    "triple_soaks = hit_compounds.get_by_metadata(key=\"SoakDB count\", value=3)\n",
    "selection = double_soaks + triple_soaks\n",
    "print(\"double and triple soaks:\", selection)\n",
    "\n",
    "# subtract:\n",
    "print(\"hit_compounds - double_soaks:\", hit_compounds - double_soaks)\n",
    "\n",
    "# single addition:\n",
    "print(\"double_soaks + C3:\", double_soaks + animal.C3)\n",
    "\n",
    "# set intersection\n",
    "print(\"hit_compounds & double_soaks:\", hit_compounds & double_soaks)\n",
    "\n",
    "# set union\n",
    "print(\"hit_compounds | double_soaks:\", hit_compounds | double_soaks)\n",
    "\n",
    "# set exclusive OR\n",
    "print(\"hit_compounds ^ double_soaks:\", hit_compounds ^ double_soaks)"
   ]
  },
  {
   "cell_type": "markdown",
   "id": "7cc936cc-7f05-4430-889d-2f3d037b611d",
   "metadata": {},
   "source": [
    "Once you are happy with a selection you can add a tag for easier future retrieval:"
   ]
  },
  {
   "cell_type": "code",
   "execution_count": null,
   "id": "801f8c84-3ae0-4846-8119-523d4cf6de35",
   "metadata": {},
   "outputs": [],
   "source": [
    "selection.add_tag(\"double and triple soaks\")"
   ]
  },
  {
   "cell_type": "markdown",
   "id": "bc6a4448-1432-4da9-904a-386136d4f7e6",
   "metadata": {},
   "source": [
    "See also the API reference documentation:\n",
    "\n",
    "- [CompoundTable](https://hippo-docs.winokan.com/en/latest/compounds.html#hippo.cset.CompoundTable) (i.e. `animal.compounds`)\n",
    "- [CompoundSet](https://hippo-docs.winokan.com/en/latest/compounds.html#hippo.cset.CompoundSet) (i.e. a set of compounds)\n",
    "- [PoseTable](https://hippo-docs.winokan.com/en/latest/poses.html#hippo.pset.PoseTable) (i.e. `animal.poses`)\n",
    "- [PoseSet](https://hippo-docs.winokan.com/en/latest/poses.html#hippo.pset.PoseSet) (i.e. a set of poses)"
   ]
  },
  {
   "cell_type": "markdown",
   "id": "211ee7de-02f6-4544-b583-560515a72190",
   "metadata": {},
   "source": [
    "## Working with DataFrames\n",
    "\n",
    "`pandas.DataFrame` objects are a popular way to work with tabular data, and if you are familiar with it you can get DataFrame representations of HIPPO objects as well:"
   ]
  },
  {
   "cell_type": "code",
   "execution_count": null,
   "id": "af57b33b-14bb-4d0a-8d09-6f9f4dd65174",
   "metadata": {},
   "outputs": [],
   "source": [
    "df = selection.get_df()\n",
    "df.head()"
   ]
  },
  {
   "cell_type": "code",
   "execution_count": null,
   "id": "a1c804f5-5a9d-4f68-9979-570ac05d89df",
   "metadata": {},
   "outputs": [],
   "source": [
    "# more options are available to add more columns:\n",
    "df = selection.get_df(\n",
    "    smiles=True,\n",
    "    inchikey=True,\n",
    "    alias=True,\n",
    "    metadata=True,\n",
    "    expand_metadata=True,\n",
    "    num_poses=True,\n",
    ")\n",
    "df.head()"
   ]
  },
  {
   "cell_type": "markdown",
   "id": "97e4de8d-c6c2-45c2-96c8-07da71cd17ae",
   "metadata": {},
   "source": [
    "See also the API reference:\n",
    "\n",
    "- [CompoundSet.get_df()](https://hippo-docs.winokan.com/en/latest/compounds.html#hippo.cset.CompoundSet.get_df)\n",
    "- [PoseSet.get_df()](https://hippo-docs.winokan.com/en/latest/poses.html#hippo.pset.PoseSet.get_df)\n",
    "\n",
    "Or try the `help()` function:"
   ]
  },
  {
   "cell_type": "code",
   "execution_count": null,
   "id": "9ad5979e-265d-45f8-a0e3-286f01d123ba",
   "metadata": {},
   "outputs": [],
   "source": [
    "help(selection.get_df)"
   ]
  },
  {
   "cell_type": "markdown",
   "id": "70699c43-94f9-4080-bf34-b5c34b85616a",
   "metadata": {},
   "source": [
    "Once you have a dataframe you can perform all kinds of filtering operations and also add columns from other sources"
   ]
  },
  {
   "cell_type": "code",
   "execution_count": null,
   "id": "46b104e7-09af-48d5-8c15-3e1cb7d32e0a",
   "metadata": {},
   "outputs": [],
   "source": [
    "# select compounds with multiple poses\n",
    "filtered_df = df[df[\"num_poses\"] > 1]\n",
    "\n",
    "# sort compounds by SoakDB count\n",
    "sorted_df = filtered_df.sort_values(by=\"SoakDB count\", ascending=False)\n",
    "\n",
    "sorted_df.head()"
   ]
  },
  {
   "cell_type": "markdown",
   "id": "7ee4f8d8-39d9-426a-901e-c5e7c13aefaf",
   "metadata": {},
   "source": [
    "You can then get back to a HIPPO `CompoundSet`:"
   ]
  },
  {
   "cell_type": "code",
   "execution_count": null,
   "id": "666e7171-56ac-466e-aa11-ed8778594fdc",
   "metadata": {},
   "outputs": [],
   "source": [
    "# simplest way:\n",
    "cset = animal.compounds[sorted_df.index]\n",
    "\n",
    "# to maintain custom ordering:\n",
    "cset = animal.compounds(ids=list(sorted_df.index), sort=False)\n",
    "\n",
    "cset.interactive()"
   ]
  },
  {
   "cell_type": "markdown",
   "id": "ef516f38-e310-4ad8-90fe-b4a7087dc8f0",
   "metadata": {},
   "source": [
    "## Working with HIPPO subsites\n",
    "\n",
    "HIPPO subsite objects are an additional way to group `Pose` objects by arbitrary 'pockets' or 'subsites'.\n",
    "\n",
    "They can be assigned from Fragalysis'/XCA Canonical sites for example:"
   ]
  },
  {
   "cell_type": "code",
   "execution_count": null,
   "id": "444953b1-fb01-4af5-a69b-56e8b2126775",
   "metadata": {},
   "outputs": [],
   "source": [
    "hits = animal.poses(tag=\"hits\")\n",
    "hits.set_subsites_from_metadata_field()"
   ]
  },
  {
   "cell_type": "code",
   "execution_count": null,
   "id": "5984cc6a-075f-4b57-b6b1-730052bc8950",
   "metadata": {},
   "outputs": [],
   "source": []
  }
 ],
 "metadata": {
  "kernelspec": {
   "display_name": "Python 3 (ipykernel)",
   "language": "python",
   "name": "python3"
  },
  "language_info": {
   "codemirror_mode": {
    "name": "ipython",
    "version": 3
   },
   "file_extension": ".py",
   "mimetype": "text/x-python",
   "name": "python",
   "nbconvert_exporter": "python",
   "pygments_lexer": "ipython3",
   "version": "3.12.10"
  }
 },
 "nbformat": 4,
 "nbformat_minor": 5
}
